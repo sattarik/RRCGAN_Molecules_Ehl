{
 "cells": [
  {
   "cell_type": "code",
   "execution_count": 2,
   "id": "increasing-smoke",
   "metadata": {},
   "outputs": [],
   "source": [
    "import pickle\n",
    "import numpy as np\n",
    "import pandas as pd\n",
    "import matplotlib.pyplot as plt\n",
    "\n",
    "import re\n",
    "from rdkit import Chem\n",
    "from rdkit.Chem import AllChem\n",
    "from rdkit.Chem import Descriptors\n",
    "from rdkit.Chem import Crippen as logp\n",
    "from rdkit.Chem import rdMolDescriptors as tpsa\n",
    "from rdkit.Chem import QED as QED\n",
    "\n",
    "from chainer_chemistry.datasets.molnet import get_molnet_dataset"
   ]
  },
  {
   "cell_type": "code",
   "execution_count": 3,
   "id": "urban-regular",
   "metadata": {},
   "outputs": [
    {
     "name": "stdout",
     "output_type": "stream",
     "text": [
      "len(coords_gen) 3097, len(gen_SMILES) 3097, len(gen_gap) 3097, len(gen_pure_atoms) 3097\n"
     ]
    }
   ],
   "source": [
    "# put csvfile name here\n",
    "#csv_filename = 'Initial_training_510dftSampled.csv'\n",
    "csv_filename = './../../../experiments/regular/Feature_generation/Initial_training.csv'\n",
    "gen_SMILES_data = pd.read_csv(csv_filename)\n",
    "\n",
    "gen_SMILES = []\n",
    "gen_gap = []\n",
    "for s in gen_SMILES_data['SMILES'].values:\n",
    "    gen_SMILES.append(s)\n",
    "\n",
    "# if the file has DFT use that value, if not desired values\n",
    "try:\n",
    "    for h in gen_SMILES_data['DFT_gap'].values:\n",
    "        gen_gap.append(h)\n",
    "except:\n",
    "    for h in gen_SMILES_data['pred_gap'].values:\n",
    "        gen_gap.append(h)\n",
    "\n",
    "#print (\"this is output: \", output)\n",
    "#print (\"this is re.sub\", re.sub('[\\W+\\d+H]', '', SMILES[1]))\n",
    "\n",
    "#print (len(re.sub('[\\W+\\d+H]', '', SMILES[1])))\n",
    "\n",
    "\n",
    "coords = []\n",
    "pure_atoms = []\n",
    "_3Ds = 0\n",
    "gen_coords = []\n",
    "gen_pure_atoms = []\n",
    "gen_3Ds = 0\n",
    "\n",
    "\n",
    "valid = []\n",
    "for i,smiles in enumerate (gen_SMILES):\n",
    "    try:\n",
    "     m = AllChem.MolFromSmiles(smiles)\n",
    "     output = Chem.MolToMolBlock(m)\n",
    "     if output.split('\\n')[1].split()[1]=='3D':\n",
    "        gen_3Ds += 1\n",
    "\n",
    "     pure_atom = re.sub('[\\W+\\d+H]', '', smiles)\n",
    "     stop = len(pure_atom)\n",
    "     gen_pure_atoms.append(pure_atom)\n",
    "\n",
    "     coord = np.array([a.split()[:3] for a in output.split('\\n')[4:(4+stop)]]).astype(float)\n",
    "     gen_coords.append(coord)\n",
    "     valid.append (i)\n",
    "    except:\n",
    "     pass\n",
    "gen_SMILES = [gen_SMILES[i] for i in valid]\n",
    "gen_gap = [gen_gap[i] for i in valid]\n",
    "\n",
    "\n",
    "\n",
    "print (\"len(coords_gen) {}, len(gen_SMILES) {}, len(gen_gap) {}, len(gen_pure_atoms) {}\".format(len(gen_coords), len(gen_SMILES), len(gen_gap), len(gen_pure_atoms)))\n",
    "\"\"\"\n",
    "print (coords[1])\n",
    "with open('coordinates.pickle', 'wb') as f:\n",
    "    pickle.dump((coords, SMILES, gap, pure_atoms), f)\n",
    "\"\"\"\n",
    "\"\"\"----\"\"\"\n",
    "\n",
    "####\n",
    "\n",
    "features = {\n",
    "    'MolWt': Descriptors.MolWt,\n",
    "    'HeavyAtomCount': Descriptors.HeavyAtomCount,\n",
    "    'HeavyAtomMolWt': Descriptors.HeavyAtomMolWt,\n",
    "    'NumHAcceptors': Descriptors.NumHAcceptors,\n",
    "    'NumHDonors': Descriptors.NumHDonors,\n",
    "    'NumHeteroatoms': Descriptors.NumHeteroatoms,\n",
    "    'NumRotatableBonds': Descriptors.NumRotatableBonds,\n",
    "    'NumValenceElectrons': Descriptors.NumValenceElectrons,\n",
    "    'NumAromaticRings': Descriptors.NumAromaticRings,\n",
    "    'NumSaturatedRings': Descriptors.NumSaturatedRings,\n",
    "    'NumAliphaticRings': Descriptors.NumAliphaticRings,\n",
    "    'NumRadicalElectrons': Descriptors.NumRadicalElectrons,\n",
    "    'NumAliphaticCarbocycles': Descriptors.NumAliphaticCarbocycles,\n",
    "    'NumAliphaticHeterocycles': Descriptors.NumAliphaticHeterocycles,\n",
    "    'NumAromaticCarbocycles': Descriptors.NumAromaticCarbocycles,\n",
    "    'NumAromaticHeterocycles': Descriptors.NumAromaticHeterocycles,\n",
    "    'NumSaturatedCarbocycles': Descriptors.NumSaturatedCarbocycles,\n",
    "    'NumSaturatedHeterocycles': Descriptors.NumSaturatedHeterocycles, \n",
    "    'Logp': logp.MolLogP,\n",
    "    'TPSA': tpsa.CalcTPSA,\n",
    "    'QED' : QED.default\n",
    "}\n",
    "out_data = {}\n",
    "for f in features.keys():\n",
    "    out_data[f] = []\n",
    "\n",
    "#gap = gap.replace\n",
    "gen_out_data = {}\n",
    "for f in features.keys():\n",
    "    gen_out_data[f] = []\n",
    "\n",
    "for i, smiles in enumerate(gen_SMILES):\n",
    "\n",
    "    if (i + 1) % 5000 == 0:\n",
    "        print('Currently processed: {}/{}'.format(i+1, len(gen_SMILES)))\n",
    "\n",
    "    m = AllChem.MolFromSmiles(smiles)\n",
    "    try:\n",
    "        for k, v in features.items():\n",
    "            gen_out_data[k].append(v(m))\n",
    "    except:\n",
    "        pass\n",
    "\n",
    "gen_out_data['gap'] = gen_gap\n",
    "\n",
    "gen_out_data = pd.DataFrame(gen_out_data)\n",
    "\n",
    "gen_out_data.to_csv('./Features{}.csv'.format(\"Initial_training\"), index = False)\n"
   ]
  },
  {
   "cell_type": "code",
   "execution_count": 4,
   "id": "written-twins",
   "metadata": {},
   "outputs": [
    {
     "data": {
      "text/plain": [
       "(array([  4.,   6.,  15.,  37., 112., 153., 185., 181., 163., 203., 237.,\n",
       "        311., 384., 336., 253., 235., 144.,  94.,  32.,  12.]),\n",
       " array([ 0.30612805,  0.80549198,  1.3048559 ,  1.80421982,  2.30358374,\n",
       "         2.80294767,  3.30231159,  3.80167551,  4.30103943,  4.80040335,\n",
       "         5.29976728,  5.7991312 ,  6.29849512,  6.79785904,  7.29722297,\n",
       "         7.79658689,  8.29595081,  8.79531473,  9.29467866,  9.79404258,\n",
       "        10.2934065 ]),\n",
       " <BarContainer object of 20 artists>)"
      ]
     },
     "execution_count": 4,
     "metadata": {},
     "output_type": "execute_result"
    },
    {
     "data": {
      "image/png": "[encoded data removed]",
      "text/plain": [
       "<Figure size 640x480 with 1 Axes>"
      ]
     },
     "metadata": {},
     "output_type": "display_data"
    }
   ],
   "source": [
    "plt.hist (gen_SMILES_data['pred_gap'], bins=20)"
   ]
  }
 ],
 "metadata": {
  "kernelspec": {
   "display_name": "Python 3 (ipykernel)",
   "language": "python",
   "name": "python3"
  },
  "language_info": {
   "codemirror_mode": {
    "name": "ipython",
    "version": 3
   },
   "file_extension": ".py",
   "mimetype": "text/x-python",
   "name": "python",
   "nbconvert_exporter": "python",
   "pygments_lexer": "ipython3",
   "version": "3.9.16"
  }
 },
 "nbformat": 4,
 "nbformat_minor": 5
}
