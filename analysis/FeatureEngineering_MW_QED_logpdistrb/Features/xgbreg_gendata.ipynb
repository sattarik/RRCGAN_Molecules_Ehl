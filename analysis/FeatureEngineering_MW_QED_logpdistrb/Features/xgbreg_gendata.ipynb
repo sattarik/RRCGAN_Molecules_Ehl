{
 "cells": [
  {
   "cell_type": "code",
   "execution_count": 317,
   "metadata": {},
   "outputs": [],
   "source": [
    "import warnings\n",
    "warnings.filterwarnings('ignore')\n",
    "\n",
    "import numpy as np\n",
    "import pandas as pd\n",
    "from xgboost import XGBRegressor\n",
    "import pickle\n",
    "\n",
    "from sklearn.model_selection import train_test_split, KFold, GridSearchCV, RandomizedSearchCV\n",
    "from sklearn.metrics import make_scorer, mean_squared_error, r2_score, mean_absolute_error\n",
    "\n",
    "import matplotlib.pyplot as plt\n",
    "import time\n",
    "import matplotlib as mpl\n",
    "start = time.time()\n",
    "from progressbar import ProgressBar"
   ]
  },
  {
   "cell_type": "code",
   "execution_count": 318,
   "metadata": {},
   "outputs": [
    {
     "name": "stdout",
     "output_type": "stream",
     "text": [
      "Index(['MolWt', 'HeavyAtomCount', 'HeavyAtomMolWt', 'NumHAcceptors',\n",
      "       'NumHDonors', 'NumHeteroatoms', 'NumRotatableBonds',\n",
      "       'NumValenceElectrons', 'NumAromaticRings', 'NumSaturatedRings',\n",
      "       'NumAliphaticRings', 'NumRadicalElectrons', 'NumAliphaticCarbocycles',\n",
      "       'NumAliphaticHeterocycles', 'NumAromaticCarbocycles',\n",
      "       'NumAromaticHeterocycles', 'NumSaturatedCarbocycles',\n",
      "       'NumSaturatedHeterocycles', 'Logp', 'TPSA', 'QED', 'gap'],\n",
      "      dtype='object')\n",
      "Index(['MolWt', 'HeavyAtomCount', 'HeavyAtomMolWt', 'NumHAcceptors',\n",
      "       'NumHDonors', 'NumHeteroatoms', 'NumRotatableBonds',\n",
      "       'NumValenceElectrons', 'NumAromaticRings', 'NumSaturatedRings',\n",
      "       'NumAliphaticRings', 'NumRadicalElectrons', 'NumAliphaticCarbocycles',\n",
      "       'NumAliphaticHeterocycles', 'NumAromaticCarbocycles',\n",
      "       'NumAromaticHeterocycles', 'NumSaturatedCarbocycles',\n",
      "       'NumSaturatedHeterocycles'],\n",
      "      dtype='object')\n"
     ]
    }
   ],
   "source": [
    "data = pd.read_csv('FeaturesInitial_training.csv')\n",
    "print (data.columns)\n",
    "features_names0 = data.columns[0:18]\n",
    "print (features_names0)\n",
    "# Check the columns names\n",
    "\n"
   ]
  },
  {
   "cell_type": "code",
   "execution_count": 320,
   "metadata": {},
   "outputs": [
    {
     "data": {
      "text/plain": [
       "(3097, 22)"
      ]
     },
     "execution_count": 320,
     "metadata": {},
     "output_type": "execute_result"
    }
   ],
   "source": [
    "np.mean(data['gap'])\n",
    "data.shape"
   ]
  },
  {
   "cell_type": "code",
   "execution_count": 324,
   "metadata": {},
   "outputs": [
    {
     "name": "stderr",
     "output_type": "stream",
     "text": [
      " 62% |############################################                            |\r"
     ]
    },
    {
     "name": "stdout",
     "output_type": "stream",
     "text": [
      "lr:  0.26000000000000006\n",
      "619\n",
      "r2:  0.7948890766394915\n",
      "n_estimator:  88\n"
     ]
    },
    {
     "name": "stderr",
     "output_type": "stream",
     "text": [
      " 66% |###############################################                         |\r"
     ]
    },
    {
     "name": "stdout",
     "output_type": "stream",
     "text": [
      "lr:  0.2910000000000001\n",
      "662\n",
      "r2:  0.7933705172993276\n",
      "n_estimator:  64\n"
     ]
    },
    {
     "name": "stderr",
     "output_type": "stream",
     "text": [
      " 82% |###########################################################             |\r"
     ]
    },
    {
     "name": "stdout",
     "output_type": "stream",
     "text": [
      "lr:  0.2750000000000001\n",
      "824\n",
      "r2:  0.7903440171026757\n",
      "n_estimator:  95\n"
     ]
    },
    {
     "name": "stderr",
     "output_type": "stream",
     "text": [
      "100% |########################################################################|\n"
     ]
    }
   ],
   "source": [
    "pbar = ProgressBar()\n",
    "n_estimators = range(25, 100)\n",
    "n_estimators= np.repeat (np.array(n_estimators), 500)\n",
    "np.random.shuffle(n_estimators)\n",
    "\n",
    "learning_rates = np.arange(0.2, 0.3, 0.001)\n",
    "learning_rates= np.repeat (np.array(learning_rates), 100)\n",
    "np.random.shuffle(learning_rates)\n",
    "\n",
    "for rand in pbar((range(0, 1000))):\n",
    "    X_train, X_test, y_train, y_test = train_test_split(\n",
    "        data[features_names0].values,\n",
    "        data['gap'].values, random_state=rand\n",
    "    )\n",
    "\n",
    "    # see train shape, overal 133K samples, \n",
    "    # all samples, train =105K , test =33K \n",
    "    # with subsampling, train= 25.1K, test = 8.4K\n",
    "    #print (\"Features train array shape: \",X_train.shape)\n",
    "    #print (\"Features test array shape: \",X_test.shape)\n",
    "    #print (\"Heat_capacity train shape: \",y_train.shape)\n",
    "    #print (\"Heat_capacity test shape:\",y_test.shape)\n",
    "\n",
    "    xgbr_final = XGBRegressor(max_depth=5, n_estimators=n_estimators[rand], \n",
    "                                        gamma=0.01, learning_rate=learning_rates[rand], \n",
    "                                        subsample=0.8,  min_child_weight=20, \n",
    "                                        n_jobs=-1, random_state=0)\n",
    "    xgbr_final.fit(X_train, y_train);\n",
    "    predictions = xgbr_final.predict(X_test)\n",
    "    r_squared_test = r2_score(y_test, predictions)\n",
    "    #print ('random: ', i)\n",
    "    if r_squared_test>=0.79:\n",
    "        max_random = rand\n",
    "        max_n_est = n_estimators[rand]\n",
    "        print ('lr: ', learning_rates[rand])\n",
    "        print (rand)\n",
    "        print ('r2: ', r_squared_test)\n",
    "        print ('n_estimator: ', n_estimators[rand])\n",
    "    #print (r_squared_test)\n",
    "    train_predictions = xgbr_final.predict(X_train)\n",
    "    r_squared = r2_score(y_train, train_predictions)\n",
    "    #print (r_squared)\n",
    "    importance = list(xgbr_final.feature_importances_)\n",
    "    #print (importance)"
   ]
  },
  {
   "cell_type": "code",
   "execution_count": 233,
   "metadata": {},
   "outputs": [
    {
     "data": {
      "text/plain": [
       "34"
      ]
     },
     "execution_count": 233,
     "metadata": {},
     "output_type": "execute_result"
    }
   ],
   "source": [
    "n_estimators[rand]"
   ]
  },
  {
   "cell_type": "code",
   "execution_count": 329,
   "metadata": {},
   "outputs": [
    {
     "name": "stdout",
     "output_type": "stream",
     "text": [
      "0.7968851595305902\n",
      "0.8748969983995487\n",
      "[0.014234787, 0.02762105, 0.06273236, 0.015859906, 0.013000129, 0.020622117, 0.08051448, 0.04857739, 0.03355756, 0.31227815, 0.17801392, 0.1378399, 0.011968221, 0.010915828, 0.0, 0.0060016704, 0.016828466, 0.009434097]\n"
     ]
    }
   ],
   "source": [
    "X_train, X_test, y_train, y_test = train_test_split(\n",
    "    data[features_names0].values,\n",
    "    data['gap'].values, random_state=619\n",
    ")\n",
    "\n",
    "# see train shape, overal 133K samples, \n",
    "# all samples, train =105K , test =33K \n",
    "# with subsampling, train= 25.1K, test = 8.4K\n",
    "#print (\"Features train array shape: \",X_train.shape)\n",
    "#print (\"Features test array shape: \",X_test.shape)\n",
    "#print (\"Heat_capacity train shape: \",y_train.shape)\n",
    "#print (\"Heat_capacity test shape:\",y_test.shape)\n",
    "\n",
    "xgbr_final = XGBRegressor(max_depth=5, n_estimators=88, \n",
    "                                    gamma=0.01, learning_rate=0.25, \n",
    "                                    subsample=0.8,  min_child_weight=20, \n",
    "                                    n_jobs=-1, random_state=0)\n",
    "xgbr_final.fit(X_train, y_train);\n",
    "predictions = xgbr_final.predict(X_test)\n",
    "r_squared_test = r2_score(y_test, predictions)\n",
    "print (r_squared_test)\n",
    "train_predictions = xgbr_final.predict(X_train)\n",
    "r_squared = r2_score(y_train, train_predictions)\n",
    "print (r_squared)\n",
    "importance = list(xgbr_final.feature_importances_)\n",
    "print (importance)"
   ]
  },
  {
   "cell_type": "code",
   "execution_count": 330,
   "metadata": {},
   "outputs": [
    {
     "name": "stdout",
     "output_type": "stream",
     "text": [
      "Fitting 3 folds for each of 500 candidates, totalling 1500 fits\n",
      "r2_score:  0.8015172082894322\n",
      "Mean of Cv_test:  5.912937359403499\n",
      "Mean Squared Error:  0.7463245638929282\n",
      "Mean Squared Error train:  0.45813332381460553\n",
      "test r-square:  0.8015172082894322\n",
      "train r-square:  0.8604795596796703\n",
      "MSE/Mean_Cv_test:  0.12621891938463187\n",
      "Mean absolute error:  0.6848837657427586\n",
      "Mean_absolute_error/Mean_Cv_test:  0.11582800968685554\n",
      "MeanAbsolutePercentage error (MAPE):  0.13969941344535125\n",
      "MedianAbsolutePercentage error (MdAPE):  0.09847735935245655\n",
      "time:  969.1972925662994\n"
     ]
    }
   ],
   "source": [
    "# kfolds = KFold(shuffle = True, random_state = 42)\n",
    "scorer = make_scorer(mean_squared_error, greater_is_better = False)\n",
    "\n",
    "xgb = XGBRegressor(objective = 'reg:squarederror')\n",
    "param_grid = {'max_depth': range(3,10),\n",
    "              'learning_rate': [0.1, 0.11, 0.13, 0.15, 0.16, 0.2, 0.25],\n",
    "              'n_estimators': range(10, 500, 10),\n",
    "              'min_child_weight': range(5, 50),\n",
    "              'subsample': [0.7, 0.75, 0.8]}\n",
    "xgb = RandomizedSearchCV(xgb, param_grid, n_iter = 500,\n",
    "                         cv=3, scoring = scorer, refit = True,\n",
    "                         n_jobs=-1, verbose = 1)\n",
    "xgb.fit(X_train, y_train)\n",
    "best_params = xgb.best_params_\n",
    "\n",
    "xgb = XGBRegressor(objective = 'reg:squarederror',\n",
    "                   n_jobs=-1)\n",
    "xgb.set_params(**best_params)\n",
    "xgb.fit(X_train, y_train)\n",
    "\n",
    "y_pred = xgb.predict(X_test)\n",
    "y_pred_train = xgb.predict(X_train)\n",
    "\n",
    "def MAPE(y_true, y_pred):\n",
    "    return np.mean(np.abs((y_true - y_pred) / y_true))\n",
    "\n",
    "def mAPE(y_true, y_pred):\n",
    "    return np.median(np.abs((y_true - y_pred) / y_true))\n",
    "\n",
    "print (\"r2_score: \",r2_score(y_test, y_pred))\n",
    "print (\"Mean of Cv_test: \",np.mean(y_test))\n",
    "print (\"Mean Squared Error: \", mean_squared_error(y_test, y_pred))\n",
    "print (\"Mean Squared Error train: \", mean_squared_error(y_train, y_pred_train))\n",
    "print (\"test r-square: \", r2_score ( y_test, y_pred))\n",
    "print (\"train r-square: \", r2_score (y_train, y_pred_train))\n",
    "print (\"MSE/Mean_Cv_test: \", mean_squared_error(y_test, y_pred)/np.mean(y_test))\n",
    "print (\"Mean absolute error: \", mean_absolute_error(y_test, y_pred))\n",
    "print (\"Mean_absolute_error/Mean_Cv_test: \",mean_absolute_error(y_test, y_pred)/np.mean(y_test)) \n",
    "print (\"MeanAbsolutePercentage error (MAPE): \",MAPE(y_test, y_pred))\n",
    "print (\"MedianAbsolutePercentage error (MdAPE): \",mAPE(y_test, y_pred))\n",
    "end = time.time()\n",
    "print (\"time: \",end-start)"
   ]
  },
  {
   "cell_type": "code",
   "execution_count": 331,
   "metadata": {},
   "outputs": [
    {
     "data": {
      "text/plain": [
       "{'subsample': 0.8,\n",
       " 'n_estimators': 480,\n",
       " 'min_child_weight': 30,\n",
       " 'max_depth': 3,\n",
       " 'learning_rate': 0.13}"
      ]
     },
     "execution_count": 331,
     "metadata": {},
     "output_type": "execute_result"
    }
   ],
   "source": [
    "best_params"
   ]
  },
  {
   "cell_type": "code",
   "execution_count": 379,
   "metadata": {},
   "outputs": [
    {
     "name": "stdout",
     "output_type": "stream",
     "text": [
      "0.8001600049919841\n",
      "0.8428293803762201\n",
      "[0.0130149955, 0.023125052, 0.06689327, 0.014984804, 0.010518523, 0.027867272, 0.07304637, 0.042346638, 0.11241143, 0.23385699, 0.20958991, 0.09221991, 0.015684497, 0.016155899, 0.0, 0.010310753, 0.025749141, 0.012224458]\n"
     ]
    }
   ],
   "source": [
    "X_train, X_test, y_train, y_test = train_test_split(\n",
    "    data[features_names0].values,\n",
    "    data['gap'].values, random_state=619\n",
    ")\n",
    "\n",
    "# see train shape, overal 133K samples, \n",
    "# all samples, train =105K , test =33K \n",
    "# with subsampling, train= 25.1K, test = 8.4K\n",
    "#print (\"Features train array shape: \",X_train.shape)\n",
    "#print (\"Features test array shape: \",X_test.shape)\n",
    "#print (\"Heat_capacity train shape: \",y_train.shape)\n",
    "#print (\"Heat_capacity test shape:\",y_test.shape)\n",
    "\n",
    "xgbr_final = XGBRegressor(max_depth=3, n_estimators=340, \n",
    "                                    gamma=0.01, learning_rate=0.13, \n",
    "                                    subsample=0.8,  min_child_weight=31, \n",
    "                                    n_jobs=-1, random_state=1200)\n",
    "\n",
    "#xgb.set_params(**best_params,)\n",
    "xgbr_final.fit(X_train, y_train);\n",
    "predictions = xgbr_final.predict(X_test)\n",
    "r_squared_test = r2_score(y_test, predictions)\n",
    "print (r_squared_test)\n",
    "train_predictions = xgbr_final.predict(X_train)\n",
    "r_squared = r2_score(y_train, train_predictions)\n",
    "print (r_squared)\n",
    "importance = list(xgbr_final.feature_importances_)\n",
    "print (importance)"
   ]
  },
  {
   "cell_type": "code",
   "execution_count": 308,
   "metadata": {},
   "outputs": [
    {
     "data": {
      "text/plain": [
       "6.338789432108744"
      ]
     },
     "execution_count": 308,
     "metadata": {},
     "output_type": "execute_result"
    }
   ],
   "source": [
    "np.mean(data['gap'])"
   ]
  },
  {
   "cell_type": "code",
   "execution_count": 377,
   "metadata": {},
   "outputs": [
    {
     "name": "stdout",
     "output_type": "stream",
     "text": [
      "MAE test:  0.6848837657427586\n",
      "MAE train:  0.5265250033280338\n"
     ]
    },
    {
     "data": {
      "image/png": "[encoded data removed]",
      "text/plain": [
       "<Figure size 640x480 with 1 Axes>"
      ]
     },
     "metadata": {},
     "output_type": "display_data"
    }
   ],
   "source": [
    "plt.scatter(y_test, y_pred, s=0.5)\n",
    "plt.plot ([0, 11], [0, 11], color='red')\n",
    "print ('MAE test: ', mean_absolute_error(y_test, y_pred))\n",
    "print ('MAE train: ', mean_absolute_error(y_train, y_pred_train))"
   ]
  },
  {
   "cell_type": "code",
   "execution_count": 378,
   "metadata": {},
   "outputs": [
    {
     "name": "stdout",
     "output_type": "stream",
     "text": [
      "0.7602003801193231\n",
      "0.8021774078970154\n",
      "[0.011595979, 0.019327162, 0.041710194, 0.011778328, 0.010298244, 0.02764851, 0.07063518, 0.02891814, 0.121352024, 0.28201514, 0.2230859, 0.07464186, 0.009011136, 0.010180266, 0.0, 0.0, 0.0070846155, 0.050717335]\n"
     ]
    }
   ],
   "source": [
    "xgbr_final = XGBRegressor(max_depth=5, n_estimators=30, \n",
    "                                       gamma=0.01, learning_rate=0.25, \n",
    "                                       subsample=0.8,  min_child_weight=20, \n",
    "                                       n_jobs=-1, random_state=900)\n",
    "xgbr_final.fit(X_train, y_train);\n",
    "predictions = xgbr_final.predict(X_test)\n",
    "r_squared_test = r2_score(y_test, predictions)\n",
    "print (r_squared_test)\n",
    "train_predictions = xgbr_final.predict(X_train)\n",
    "r_squared = r2_score(y_train, train_predictions)\n",
    "print (r_squared)\n",
    "importance = list(xgbr_final.feature_importances_)\n",
    "print (importance)"
   ]
  },
  {
   "cell_type": "code",
   "execution_count": 130,
   "metadata": {},
   "outputs": [
    {
     "name": "stdout",
     "output_type": "stream",
     "text": [
      "0.6245197070980718\n",
      "0.757397888209605\n",
      "[0.01638177, 0.027528757, 0.046219368, 0.020938374, 0.012632976, 0.034674324, 0.03595546, 0.04393842, 0.12671123, 0.18007661, 0.25235122, 0.09468888, 0.023730988, 0.030045444, 0.0, 0.0, 0.03853934, 0.015586832]\n"
     ]
    }
   ],
   "source": [
    "xgbr_final = XGBRegressor(max_depth=5, n_estimators=30, \n",
    "                                       gamma=0.01, learning_rate=0.25, \n",
    "                                       subsample=0.8,  min_child_weight=15, \n",
    "                                       n_jobs=-1, random_state=9)\n",
    "xgbr_final.fit(X_train, y_train);\n",
    "predictions = xgbr_final.predict(X_test)\n",
    "r_squared_test = r2_score(y_test, predictions)\n",
    "print (r_squared_test)\n",
    "train_predictions = xgbr_final.predict(X_train)\n",
    "r_squared = r2_score(y_train, train_predictions)\n",
    "print (r_squared)\n",
    "importance = list(xgbr_final.feature_importances_)\n",
    "print (importance)"
   ]
  },
  {
   "cell_type": "code",
   "execution_count": 312,
   "metadata": {},
   "outputs": [
    {
     "data": {
      "text/plain": [
       "array([0.02031859, 0.03724879, 0.06297539, 0.0256728 , 0.02329926,\n",
       "       0.03331848, 0.0421179 , 0.06487341, 0.        , 0.19933946,\n",
       "       0.2678291 , 0.13166219, 0.01613342, 0.02791987, 0.        ,\n",
       "       0.        , 0.01210348, 0.03518786], dtype=float32)"
      ]
     },
     "execution_count": 312,
     "metadata": {},
     "output_type": "execute_result"
    }
   ],
   "source": [
    "xgbr_final.feature_importances_"
   ]
  },
  {
   "cell_type": "code",
   "execution_count": 313,
   "metadata": {},
   "outputs": [
    {
     "data": {
      "text/plain": [
       "Index(['MolWt', 'HeavyAtomCount', 'HeavyAtomMolWt', 'NumHAcceptors',\n",
       "       'NumHDonors', 'NumHeteroatoms', 'NumRotatableBonds',\n",
       "       'NumValenceElectrons', 'NumAromaticRings', 'NumSaturatedRings',\n",
       "       'NumAliphaticRings', 'NumRadicalElectrons', 'NumAliphaticCarbocycles',\n",
       "       'NumAliphaticHeterocycles', 'NumAromaticCarbocycles',\n",
       "       'NumAromaticHeterocycles', 'NumSaturatedCarbocycles',\n",
       "       'NumSaturatedHeterocycles'],\n",
       "      dtype='object')"
      ]
     },
     "execution_count": 313,
     "metadata": {},
     "output_type": "execute_result"
    }
   ],
   "source": [
    "features_names0"
   ]
  },
  {
   "cell_type": "code",
   "execution_count": 380,
   "metadata": {},
   "outputs": [],
   "source": [
    "features_names = ['Mol.Wt.', 'HeavyAtomCount', 'HeavyAtomMol.Wt.', 'Num.H-Acceptors', \n",
    "             'Num.H-Donors', 'Num.Het.atoms', 'Num.Rot.Bonds', 'NumVal.Elec.',  \n",
    "             'Num.Arom.Rings', 'Num.Sat.Rings', 'Num.Aliph.Rings', 'Num.Rad.Elect.', \n",
    "             'Num.Aliph.Carbocyc.', 'Num.Aliph.Het.cyc.', 'Num.Arom.Carbocyc.', \n",
    "             'Num.Arom.Het.cyc.', 'Num.Sat.Carbocyc.', 'Num.Sat.Het.cyc.']"
   ]
  },
  {
   "cell_type": "code",
   "execution_count": 381,
   "metadata": {},
   "outputs": [],
   "source": [
    "importance_pd = pd.DataFrame({})\n",
    "importance_pd['features'] = features_names\n",
    "importance_pd['importance_values'] = np.round(importance, 4)"
   ]
  },
  {
   "cell_type": "code",
   "execution_count": 382,
   "metadata": {},
   "outputs": [
    {
     "data": {
      "text/html": [
       "<div>\n",
       "<style scoped>\n",
       "    .dataframe tbody tr th:only-of-type {\n",
       "        vertical-align: middle;\n",
       "    }\n",
       "\n",
       "    .dataframe tbody tr th {\n",
       "        vertical-align: top;\n",
       "    }\n",
       "\n",
       "    .dataframe thead th {\n",
       "        text-align: right;\n",
       "    }\n",
       "</style>\n",
       "<table border=\"1\" class=\"dataframe\">\n",
       "  <thead>\n",
       "    <tr style=\"text-align: right;\">\n",
       "      <th></th>\n",
       "      <th>features</th>\n",
       "      <th>importance_values</th>\n",
       "    </tr>\n",
       "  </thead>\n",
       "  <tbody>\n",
       "    <tr>\n",
       "      <th>9</th>\n",
       "      <td>Num.Sat.Rings</td>\n",
       "      <td>0.2339</td>\n",
       "    </tr>\n",
       "    <tr>\n",
       "      <th>10</th>\n",
       "      <td>Num.Aliph.Rings</td>\n",
       "      <td>0.2096</td>\n",
       "    </tr>\n",
       "    <tr>\n",
       "      <th>8</th>\n",
       "      <td>Num.Arom.Rings</td>\n",
       "      <td>0.1124</td>\n",
       "    </tr>\n",
       "    <tr>\n",
       "      <th>11</th>\n",
       "      <td>Num.Rad.Elect.</td>\n",
       "      <td>0.0922</td>\n",
       "    </tr>\n",
       "    <tr>\n",
       "      <th>6</th>\n",
       "      <td>Num.Rot.Bonds</td>\n",
       "      <td>0.0730</td>\n",
       "    </tr>\n",
       "    <tr>\n",
       "      <th>2</th>\n",
       "      <td>HeavyAtomMol.Wt.</td>\n",
       "      <td>0.0669</td>\n",
       "    </tr>\n",
       "    <tr>\n",
       "      <th>7</th>\n",
       "      <td>NumVal.Elec.</td>\n",
       "      <td>0.0423</td>\n",
       "    </tr>\n",
       "    <tr>\n",
       "      <th>5</th>\n",
       "      <td>Num.Het.atoms</td>\n",
       "      <td>0.0279</td>\n",
       "    </tr>\n",
       "    <tr>\n",
       "      <th>16</th>\n",
       "      <td>Num.Sat.Carbocyc.</td>\n",
       "      <td>0.0257</td>\n",
       "    </tr>\n",
       "    <tr>\n",
       "      <th>1</th>\n",
       "      <td>HeavyAtomCount</td>\n",
       "      <td>0.0231</td>\n",
       "    </tr>\n",
       "    <tr>\n",
       "      <th>13</th>\n",
       "      <td>Num.Aliph.Het.cyc.</td>\n",
       "      <td>0.0162</td>\n",
       "    </tr>\n",
       "    <tr>\n",
       "      <th>12</th>\n",
       "      <td>Num.Aliph.Carbocyc.</td>\n",
       "      <td>0.0157</td>\n",
       "    </tr>\n",
       "    <tr>\n",
       "      <th>3</th>\n",
       "      <td>Num.H-Acceptors</td>\n",
       "      <td>0.0150</td>\n",
       "    </tr>\n",
       "    <tr>\n",
       "      <th>0</th>\n",
       "      <td>Mol.Wt.</td>\n",
       "      <td>0.0130</td>\n",
       "    </tr>\n",
       "    <tr>\n",
       "      <th>17</th>\n",
       "      <td>Num.Sat.Het.cyc.</td>\n",
       "      <td>0.0122</td>\n",
       "    </tr>\n",
       "    <tr>\n",
       "      <th>4</th>\n",
       "      <td>Num.H-Donors</td>\n",
       "      <td>0.0105</td>\n",
       "    </tr>\n",
       "    <tr>\n",
       "      <th>15</th>\n",
       "      <td>Num.Arom.Het.cyc.</td>\n",
       "      <td>0.0103</td>\n",
       "    </tr>\n",
       "    <tr>\n",
       "      <th>14</th>\n",
       "      <td>Num.Arom.Carbocyc.</td>\n",
       "      <td>0.0000</td>\n",
       "    </tr>\n",
       "  </tbody>\n",
       "</table>\n",
       "</div>"
      ],
      "text/plain": [
       "               features  importance_values\n",
       "9         Num.Sat.Rings             0.2339\n",
       "10      Num.Aliph.Rings             0.2096\n",
       "8        Num.Arom.Rings             0.1124\n",
       "11       Num.Rad.Elect.             0.0922\n",
       "6         Num.Rot.Bonds             0.0730\n",
       "2      HeavyAtomMol.Wt.             0.0669\n",
       "7          NumVal.Elec.             0.0423\n",
       "5         Num.Het.atoms             0.0279\n",
       "16    Num.Sat.Carbocyc.             0.0257\n",
       "1        HeavyAtomCount             0.0231\n",
       "13   Num.Aliph.Het.cyc.             0.0162\n",
       "12  Num.Aliph.Carbocyc.             0.0157\n",
       "3       Num.H-Acceptors             0.0150\n",
       "0               Mol.Wt.             0.0130\n",
       "17     Num.Sat.Het.cyc.             0.0122\n",
       "4          Num.H-Donors             0.0105\n",
       "15    Num.Arom.Het.cyc.             0.0103\n",
       "14   Num.Arom.Carbocyc.             0.0000"
      ]
     },
     "execution_count": 382,
     "metadata": {},
     "output_type": "execute_result"
    }
   ],
   "source": [
    "importance_pd.sort_values(by='importance_values', ascending=False)"
   ]
  },
  {
   "cell_type": "code",
   "execution_count": 383,
   "metadata": {},
   "outputs": [
    {
     "data": {
      "text/plain": [
       "<Axes: >"
      ]
     },
     "execution_count": 383,
     "metadata": {},
     "output_type": "execute_result"
    },
    {
     "data": {
      "image/png": "[encoded data removed]",
      "text/plain": [
       "<Figure size 640x480 with 1 Axes>"
      ]
     },
     "metadata": {},
     "output_type": "display_data"
    }
   ],
   "source": [
    "importance_pd.plot(kind='barh')"
   ]
  },
  {
   "cell_type": "code",
   "execution_count": 384,
   "metadata": {},
   "outputs": [
    {
     "data": {
      "text/plain": [
       "Mol.Wt.                0.0130\n",
       "HeavyAtomCount         0.0231\n",
       "HeavyAtomMol.Wt.       0.0669\n",
       "Num.H-Acceptors        0.0150\n",
       "Num.H-Donors           0.0105\n",
       "Num.Het.atoms          0.0279\n",
       "Num.Rot.Bonds          0.0730\n",
       "NumVal.Elec.           0.0423\n",
       "Num.Arom.Rings         0.1124\n",
       "Num.Sat.Rings          0.2339\n",
       "Num.Aliph.Rings        0.2096\n",
       "Num.Rad.Elect.         0.0922\n",
       "Num.Aliph.Carbocyc.    0.0157\n",
       "Num.Aliph.Het.cyc.     0.0162\n",
       "Num.Arom.Carbocyc.     0.0000\n",
       "Num.Arom.Het.cyc.      0.0103\n",
       "Num.Sat.Carbocyc.      0.0257\n",
       "Num.Sat.Het.cyc.       0.0122\n",
       "dtype: float32"
      ]
     },
     "execution_count": 384,
     "metadata": {},
     "output_type": "execute_result"
    }
   ],
   "source": [
    "XX = pd.Series(np.round (importance, 4), index=features_names)\n",
    "XX"
   ]
  },
  {
   "cell_type": "code",
   "execution_count": 391,
   "metadata": {},
   "outputs": [
    {
     "data": {
      "image/png": "[encoded data removed]",
      "text/plain": [
       "<Figure size 1000x600 with 2 Axes>"
      ]
     },
     "metadata": {},
     "output_type": "display_data"
    }
   ],
   "source": [
    "XX = pd.Series(np.round (importance, 4), index=features_names)\n",
    "fig, (ax1, ax2) = plt.subplots(2, 1, sharex=True,\n",
    "                               figsize=(10,6))\n",
    "\n",
    "mpl.rcParams['axes.linewidth'] = 2.5\n",
    "XX2 = np.around(XX.values, decimals=5)\n",
    "\n",
    "ax1.spines['bottom'].set_visible(False)\n",
    "ax1.tick_params(axis='x',which='both',bottom=False)\n",
    "ax2.spines['top'].set_visible(False)\n",
    "\n",
    "plt.rcParams[\"figure.autolayout\"] = True\n",
    "bs = 0.12\n",
    "ts = 0.18\n",
    "ax2.set_ylim(0,bs)\n",
    "ax1.set_ylim(ts, 0.25)\n",
    "\n",
    "bars1 = ax1.bar(XX.index, XX2, color='red')\n",
    "plt.sca(ax1)\n",
    "plt.yticks(rotation=0, fontsize=15, fontweight='bold',)\n",
    "plt.yticks(np.linspace(ts, 0.25, 3))\n",
    "ax1.xaxis.set_tick_params(width=3)\n",
    "ax1.yaxis.set_tick_params(width=3)\n",
    "#plt.legend([\"QM9\"], rotation=90,fontsize=15)\n",
    "\n",
    "bars2 = ax2.bar(XX.index, XX2, color='red')\n",
    "plt.sca(ax2)\n",
    "plt.xticks(rotation=90, fontweight='bold', fontsize=15)\n",
    "plt.yticks(rotation=0, fontweight='bold', fontsize=15)\n",
    "\n",
    "plt.yticks(np.linspace(0, bs, 3))\n",
    "ax2.xaxis.set_tick_params(width=3)\n",
    "ax2.yaxis.set_tick_params(width=3)\n",
    "ax1.set_ylabel('Importance', fontweight='bold', fontsize=20, fontname='Arial')\n",
    "ax2.set_ylabel('Relative', fontweight='bold', fontsize=20, fontname='Arial')\n",
    "ax1.yaxis.set_label_coords(-0.1, 0.5)\n",
    "ax2.yaxis.set_label_coords(-0.1, 0.7)\n",
    "\"\"\"\n",
    "for tick in ax2.get_xticklabels():\n",
    "    tick.set_rotation(-45, fontsize=15)\n",
    "\"\"\"\n",
    "d = .009\n",
    "kwargs = dict(transform=ax1.transAxes, color='k', clip_on=False)\n",
    "ax1.plot((-d, +d), (-d, +d), **kwargs)      \n",
    "ax1.plot((1 - d, 1 + d), (-d, +d), **kwargs)\n",
    "kwargs.update(transform=ax2.transAxes)  \n",
    "ax2.plot((-d, +d), (1 - d, 1 + d), **kwargs)  \n",
    "ax2.plot((1 - d, 1 + d), (1 - d, 1 + d), **kwargs)\n",
    "\n",
    "\n",
    "for b1, b2 in zip(bars1, bars2):\n",
    "    posx = b2.get_x() + b2.get_width()/2.\n",
    "    if b2.get_height() > bs:\n",
    "        ax2.plot((posx-3*d, posx+10*d), (1 - d, 1 + d), color='k', clip_on=False,\n",
    "                 transform=ax2.get_xaxis_transform())\n",
    "    if b1.get_height() > ts:\n",
    "        ax1.plot((posx-3*d, posx+10*d), (- d, + d), color='k', clip_on=False,\n",
    "                 transform=ax1.get_xaxis_transform())\n",
    "\n",
    "plt.tight_layout()\n",
    "plt.savefig('last_features.jpeg', bbox_inches='tight', dpi=500)"
   ]
  },
  {
   "cell_type": "code",
   "execution_count": null,
   "metadata": {},
   "outputs": [],
   "source": []
  }
 ],
 "metadata": {
  "kernelspec": {
   "display_name": "tf-gpu",
   "language": "python",
   "name": "python3"
  },
  "language_info": {
   "codemirror_mode": {
    "name": "ipython",
    "version": 3
   },
   "file_extension": ".py",
   "mimetype": "text/x-python",
   "name": "python",
   "nbconvert_exporter": "python",
   "pygments_lexer": "ipython3",
   "version": "3.9.16"
  },
  "orig_nbformat": 4
 },
 "nbformat": 4,
 "nbformat_minor": 2
}
