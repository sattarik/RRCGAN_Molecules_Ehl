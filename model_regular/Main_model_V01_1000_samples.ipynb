{
 "cells": [
  {
   "cell_type": "code",
   "execution_count": 1,
   "id": "564dafda",
   "metadata": {},
   "outputs": [
    {
     "name": "stderr",
     "output_type": "stream",
     "text": [
      "2023-06-12 22:21:02.396152: I tensorflow/core/platform/cpu_feature_guard.cc:193] This TensorFlow binary is optimized with oneAPI Deep Neural Network Library (oneDNN) to use the following CPU instructions in performance-critical operations:  AVX2 AVX_VNNI FMA\n",
      "To enable them in other operations, rebuild TensorFlow with the appropriate compiler flags.\n",
      "2023-06-12 22:21:02.459486: I tensorflow/core/util/port.cc:104] oneDNN custom operations are on. You may see slightly different numerical results due to floating-point round-off errors from different computation orders. To turn them off, set the environment variable `TF_ENABLE_ONEDNN_OPTS=0`.\n",
      "2023-06-12 22:21:02.791641: W tensorflow/compiler/xla/stream_executor/platform/default/dso_loader.cc:64] Could not load dynamic library 'libnvinfer.so.7'; dlerror: libnvinfer.so.7: cannot open shared object file: No such file or directory; LD_LIBRARY_PATH: /usr/local/cuda/lib64:/usr/local/cuda-11.2/lib64:\n",
      "2023-06-12 22:21:02.791681: W tensorflow/compiler/xla/stream_executor/platform/default/dso_loader.cc:64] Could not load dynamic library 'libnvinfer_plugin.so.7'; dlerror: libnvinfer_plugin.so.7: cannot open shared object file: No such file or directory; LD_LIBRARY_PATH: /usr/local/cuda/lib64:/usr/local/cuda-11.2/lib64:\n",
      "2023-06-12 22:21:02.791684: W tensorflow/compiler/tf2tensorrt/utils/py_utils.cc:38] TF-TRT Warning: Cannot dlopen some TensorRT libraries. If you would like to use Nvidia GPU with TensorRT, please make sure the missing libraries mentioned above are installed properly.\n"
     ]
    }
   ],
   "source": [
    "# Strategy 1:\n",
    "# Generate data after each epoch of training, if less than\n",
    "# 10% error rate, and is a legit SMILES\n",
    "# append to the real data\n",
    "# Otherwise, append to fake data\n",
    "\n",
    "# ADDING REINFORCEMENT MECHANISM\n",
    "# Regenerate Normal sampling (define ranges), default: uniform\n",
    "\n",
    "# IMPORTANT!!!!!!!!!!!!! DO NOT DROP DUPLICATE FOR RESULT .CSV\n",
    "\n",
    "import warnings\n",
    "warnings.filterwarnings('ignore')\n",
    "\n",
    "import time\n",
    "import os\n",
    "import re\n",
    "import pandas as pd\n",
    "import random\n",
    "\n",
    "import matplotlib as mpl\n",
    "from matplotlib import rc, rcParams\n",
    "\n",
    "import numpy as np\n",
    "from numpy import ndarray\n",
    "\n",
    "from sklearn.model_selection import train_test_split\n",
    "from sklearn.feature_extraction.text import CountVectorizer\n",
    "from sklearn.decomposition import PCA\n",
    "from sklearn.metrics import r2_score\n",
    "from sklearn.metrics import mean_squared_error \n",
    "from sklearn.metrics import mean_absolute_error\n",
    "from sklearn.metrics import explained_variance_score\n",
    "from scipy.stats import truncnorm\n",
    "\n",
    "import multiprocessing\n",
    "import pickle\n",
    "import tensorflow as tf\n",
    "from tensorflow import keras\n",
    "from tensorflow.keras.layers import (Input, Dropout, LSTM, Reshape, LeakyReLU,\n",
    "                          Concatenate, ReLU, Flatten, Dense, Embedding,\n",
    "                          BatchNormalization, Activation, SpatialDropout1D,\n",
    "                          Conv2D, MaxPooling2D, UpSampling2D, Lambda)\n",
    "from tensorflow.keras.models     import Model, load_model\n",
    "from tensorflow.keras.optimizers import Adam\n",
    "from tensorflow.keras.losses     import mse, binary_crossentropy\n",
    "import tensorflow.keras.backend as K\n",
    "from tensorflow.keras.metrics import RootMeanSquaredError\n",
    "from tensorflow.keras.metrics import  mean_squared_error as mse_keras\n",
    "from tensorflow.keras.backend import argmax as argmax\n",
    "from tensorflow.keras.preprocessing.text import Tokenizer\n",
    "from tensorflow.keras.preprocessing.sequence import pad_sequences\n",
    "from tensorflow import one_hot\n",
    "from tensorflow.keras.models import Sequential \n",
    "\n",
    "from tensorflow.keras.utils import  to_categorical\n",
    "from tensorflow import random as randomtf\n",
    "\n",
    "from IPython.display import clear_output\n",
    "import matplotlib.pyplot as plt\n",
    "import matplotlib as mpl\n",
    "import matplotlib.lines as mlines\n",
    "from   matplotlib.lines import Line2D\n",
    "from   matplotlib.colors import ListedColormap\n",
    "import matplotlib.ticker as tk\n",
    "\n",
    "from progressbar import ProgressBar\n",
    "import seaborn as sns\n",
    "\n",
    "from chainer_chemistry.dataset.preprocessors import GGNNPreprocessor, construct_atomic_number_array\n",
    "preprocessor = GGNNPreprocessor()\n",
    "from rdkit import rdBase\n",
    "rdBase.DisableLog('rdApp.error')\n",
    "from rdkit import Chem\n",
    "\n",
    "import ntpath\n",
    "from scipy.stats import truncnorm\n",
    "\n",
    "\n",
    "import sys\n",
    "sys.path.append(\"./../utils/\")\n",
    "from general import *\n",
    "\n",
    "\"\"\" fix all the seeds,results are still slighthly different \"\"\"\n",
    "randomtf.set_seed(10)\n",
    "os.environ['PYTHONHASHSEED'] = '10'\n",
    "np.random.seed(420)\n",
    "random.seed(123450)\n",
    "from progressbar import ProgressBar\n",
    "#gpu_options = tf.GPUOptions(per_process_gpu_memory_fraction=0.3667)\n",
    "#session_conf = tf.ConfigProto(intra_op_parallelism_threads=1, inter_op_parallelism_threads=1, gpu_options=gpu_options)\n",
    "#tf.set_random_seed(1234)\n",
    "#sess = tf.Session(graph=tf.get_default_graph(), config=session_conf)\n",
    "#K.set_session(sess)"
   ]
  },
  {
   "cell_type": "code",
   "execution_count": 2,
   "id": "daa193c0",
   "metadata": {},
   "outputs": [
    {
     "name": "stderr",
     "output_type": "stream",
     "text": [
      "2023-06-12 22:21:03.396941: I tensorflow/core/platform/cpu_feature_guard.cc:193] This TensorFlow binary is optimized with oneAPI Deep Neural Network Library (oneDNN) to use the following CPU instructions in performance-critical operations:  AVX2 AVX_VNNI FMA\n",
      "To enable them in other operations, rebuild TensorFlow with the appropriate compiler flags.\n",
      "2023-06-12 22:21:03.406856: I tensorflow/compiler/xla/stream_executor/cuda/cuda_gpu_executor.cc:981] successful NUMA node read from SysFS had negative value (-1), but there must be at least one NUMA node, so returning NUMA node zero\n",
      "2023-06-12 22:21:03.411451: I tensorflow/compiler/xla/stream_executor/cuda/cuda_gpu_executor.cc:981] successful NUMA node read from SysFS had negative value (-1), but there must be at least one NUMA node, so returning NUMA node zero\n",
      "2023-06-12 22:21:03.411571: I tensorflow/compiler/xla/stream_executor/cuda/cuda_gpu_executor.cc:981] successful NUMA node read from SysFS had negative value (-1), but there must be at least one NUMA node, so returning NUMA node zero\n"
     ]
    },
    {
     "name": "stdout",
     "output_type": "stream",
     "text": [
      "WARNING:tensorflow:From /tmp/ipykernel_42446/3974400901.py:5: The name tf.keras.backend.set_session is deprecated. Please use tf.compat.v1.keras.backend.set_session instead.\n",
      "\n"
     ]
    },
    {
     "name": "stderr",
     "output_type": "stream",
     "text": [
      "2023-06-12 22:21:03.705461: I tensorflow/compiler/xla/stream_executor/cuda/cuda_gpu_executor.cc:981] successful NUMA node read from SysFS had negative value (-1), but there must be at least one NUMA node, so returning NUMA node zero\n",
      "2023-06-12 22:21:03.705610: I tensorflow/compiler/xla/stream_executor/cuda/cuda_gpu_executor.cc:981] successful NUMA node read from SysFS had negative value (-1), but there must be at least one NUMA node, so returning NUMA node zero\n",
      "2023-06-12 22:21:03.705674: I tensorflow/compiler/xla/stream_executor/cuda/cuda_gpu_executor.cc:981] successful NUMA node read from SysFS had negative value (-1), but there must be at least one NUMA node, so returning NUMA node zero\n",
      "2023-06-12 22:21:03.705727: I tensorflow/core/common_runtime/gpu/gpu_device.cc:1613] Created device /job:localhost/replica:0/task:0/device:GPU:0 with 7272 MB memory:  -> device: 0, name: NVIDIA GeForce RTX 3090, pci bus id: 0000:01:00.0, compute capability: 8.6\n"
     ]
    }
   ],
   "source": [
    "gpu_options = tf.compat.v1.GPUOptions(per_process_gpu_memory_fraction=0.3)\n",
    "session_conf = tf.compat.v1.ConfigProto(intra_op_parallelism_threads=1, inter_op_parallelism_threads=1, gpu_options=gpu_options)\n",
    "tf.compat.v1.set_random_seed(1234)\n",
    "sess = tf.compat.v1.Session(graph=tf.compat.v1.get_default_graph(), config=session_conf)\n",
    "tf.compat.v1.keras.backend.set_session(sess)"
   ]
  },
  {
   "cell_type": "code",
   "execution_count": 3,
   "id": "ee5cb17f",
   "metadata": {},
   "outputs": [],
   "source": [
    "tf.compat.v1.keras.backend.clear_session()"
   ]
  },
  {
   "cell_type": "code",
   "execution_count": 4,
   "id": "0597c93a",
   "metadata": {},
   "outputs": [
    {
     "data": {
      "text/plain": [
       "Text(0.5, 0, '!!!Ariaaaal')"
      ]
     },
     "execution_count": 4,
     "metadata": {},
     "output_type": "execute_result"
    },
    {
     "data": {
      "image/png": "[encoded data removed]",
      "text/plain": [
       "<Figure size 500x400 with 1 Axes>"
      ]
     },
     "metadata": {},
     "output_type": "display_data"
    }
   ],
   "source": [
    "# check the font !!!!!!!!!!!!!!!!!!!!!\n",
    "# switch to Arial\n",
    "# if not working: delet ~/.catch/matplotlib\n",
    "plt.rcParams[\"font.family\"] = \"Arial\"\n",
    "plt.rcParams['ps.useafm'] = True\n",
    "plt.rcParams['pdf.fonttype'] = 42\n",
    "mpl.font_manager.FontManager()\n",
    "\n",
    "rc('font', weight='bold')\n",
    "fig, ax = plt.subplots(figsize=(5, 4))\n",
    "plt.scatter([10, 55], [10, 55])\n",
    "ax.tick_params(axis='both', length=0, width=1.5, colors='black', grid_alpha=0, labelsize=20)\n",
    "plt.xlabel('!!!Ariaaaal', fontname='Arial', fontsize=50)"
   ]
  },
  {
   "cell_type": "code",
   "execution_count": 5,
   "id": "8f38a886",
   "metadata": {},
   "outputs": [
    {
     "name": "stdout",
     "output_type": "stream",
     "text": [
      "(106101, 40, 27, 1)\n",
      "(24819, 40, 27, 1)\n"
     ]
    }
   ],
   "source": [
    "\"\"\" reading and preprocessing data\"\"\"\n",
    "with open('./../data/trainingsets/60000_train_regular_pubqc/image_train.pickle', 'rb') as f:\n",
    "    X_smiles_train0, SMILES_train0, y_train00 = pickle.load(f)\n",
    "    \n",
    "with open('./../data/trainingsets/60000_train_regular_pubqc/image_test.pickle', 'rb') as f:\n",
    "    X_smiles_val0, SMILES_val0, y_val00 = pickle.load(f)\n",
    "\n",
    "with open('./../data/trainingsets/60000_train_regular_pubqc/tokenizer.pickle', 'rb') as f:\n",
    "    tokenizer = pickle.load(f)\n",
    "tokenizer[0] = ' '\n",
    "\n",
    "print (X_smiles_train0.shape)\n",
    "print (X_smiles_val0.shape)"
   ]
  },
  {
   "cell_type": "code",
   "execution_count": 6,
   "id": "7fc5f87f",
   "metadata": {},
   "outputs": [],
   "source": [
    "with open('./../data/trainingsets/60000_train_regular_pubqc/tokenizer_object.pickle', 'rb') as f:\n",
    "    tokenizer_ = pickle.load(f)"
   ]
  },
  {
   "cell_type": "code",
   "execution_count": 7,
   "id": "35da8a49",
   "metadata": {},
   "outputs": [
    {
     "name": "stdout",
     "output_type": "stream",
     "text": [
      "(106101, 40, 27, 1)\n",
      "(24819, 40, 27, 1)\n"
     ]
    }
   ],
   "source": [
    "# reduce the number of samples\n",
    "# subsampling\n",
    "idx = np.random.choice(len(y_train00), int(len(y_train00) * 1), replace = False)\n",
    "\n",
    "X_smiles_train, SMILES_train, y_train0 = (X_smiles_train0[idx], SMILES_train0[idx], y_train00[idx])\n",
    "\n",
    "\n",
    "idx = np.random.choice(len(y_val00), int(len(y_val00) * 1), replace = False)\n",
    "\n",
    "X_smiles_val, SMILES_val, y_val0 = (X_smiles_val0[idx], SMILES_val0[idx], y_val00[idx])\n",
    "\n",
    "print (X_smiles_train.shape)\n",
    "print (X_smiles_val.shape)"
   ]
  },
  {
   "cell_type": "code",
   "execution_count": 8,
   "id": "ae5cffd9",
   "metadata": {},
   "outputs": [
    {
     "name": "stdout",
     "output_type": "stream",
     "text": [
      "1.048\n",
      "10.985\n",
      "1.148\n",
      "10.757\n"
     ]
    }
   ],
   "source": [
    "print (min(y_train00))\n",
    "print (max(y_train00))\n",
    "print (min(y_val0))\n",
    "print (max(y_val0))"
   ]
  },
  {
   "cell_type": "code",
   "execution_count": 9,
   "id": "5288e91d",
   "metadata": {},
   "outputs": [
    {
     "name": "stdout",
     "output_type": "stream",
     "text": [
      "0.9779090909090908\n",
      "0.9986363636363635\n"
     ]
    }
   ],
   "source": [
    "# Standardized between 0 and 11\n",
    "gap_min = 0\n",
    "gap_max = 11\n",
    "\n",
    "y_val = NormalizeData(y_val0, min_data=gap_min, max_data=gap_max)\n",
    "y_train = NormalizeData(y_train0, min_data=gap_min, max_data=gap_max)\n",
    "\n",
    "print (max(y_val))\n",
    "print (max(y_train))"
   ]
  },
  {
   "cell_type": "code",
   "execution_count": 10,
   "id": "acaed59b",
   "metadata": {},
   "outputs": [
    {
     "data": {
      "image/png": "[encoded data removed]",
      "text/plain": [
       "<Figure size 500x400 with 1 Axes>"
      ]
     },
     "metadata": {},
     "output_type": "display_data"
    }
   ],
   "source": [
    "fig, ax = plt.subplots(figsize=(5, 4))\n",
    "\n",
    "ax.tick_params(axis='both', length=4, width=2, colors='black', grid_alpha=0, labelsize=15)\n",
    "[i.set_linewidth(2) for i in ax.spines.values()]\n",
    "plt.xlabel('HOMO-LUMO gap (eV)', fontname='Arial', fontweight = 'bold', fontsize=15)\n",
    "plt.ylabel('% of samples', fontname='Arial', fontweight = 'bold', fontsize=15)\n",
    "\n",
    "sns.histplot (y_train0, color='red', label='train', stat='percent', kde=True, bins=50)\n",
    "sns.histplot (y_val0, color='blue', label='test', stat='percent', kde=True, bins=50, alpha=0.5)\n",
    "plt.legend()\n",
    "plt.tight_layout()\n",
    "plt.savefig('gap_test_train.jpeg', dpi=500)"
   ]
  },
  {
   "cell_type": "code",
   "execution_count": 11,
   "id": "55edf674",
   "metadata": {},
   "outputs": [
    {
     "name": "stdout",
     "output_type": "stream",
     "text": [
      "WARNING:tensorflow:No training configuration found in the save file, so the model was *not* compiled. Compile it manually.\n"
     ]
    },
    {
     "name": "stderr",
     "output_type": "stream",
     "text": [
      "2023-06-12 22:21:05.248377: I tensorflow/compiler/xla/stream_executor/cuda/cuda_gpu_executor.cc:981] successful NUMA node read from SysFS had negative value (-1), but there must be at least one NUMA node, so returning NUMA node zero\n",
      "2023-06-12 22:21:05.248557: I tensorflow/compiler/xla/stream_executor/cuda/cuda_gpu_executor.cc:981] successful NUMA node read from SysFS had negative value (-1), but there must be at least one NUMA node, so returning NUMA node zero\n",
      "2023-06-12 22:21:05.248617: I tensorflow/compiler/xla/stream_executor/cuda/cuda_gpu_executor.cc:981] successful NUMA node read from SysFS had negative value (-1), but there must be at least one NUMA node, so returning NUMA node zero\n",
      "2023-06-12 22:21:05.248817: I tensorflow/compiler/xla/stream_executor/cuda/cuda_gpu_executor.cc:981] successful NUMA node read from SysFS had negative value (-1), but there must be at least one NUMA node, so returning NUMA node zero\n",
      "2023-06-12 22:21:05.248884: I tensorflow/compiler/xla/stream_executor/cuda/cuda_gpu_executor.cc:981] successful NUMA node read from SysFS had negative value (-1), but there must be at least one NUMA node, so returning NUMA node zero\n",
      "2023-06-12 22:21:05.248935: I tensorflow/compiler/xla/stream_executor/cuda/cuda_gpu_executor.cc:981] successful NUMA node read from SysFS had negative value (-1), but there must be at least one NUMA node, so returning NUMA node zero\n",
      "2023-06-12 22:21:05.249026: I tensorflow/compiler/xla/stream_executor/cuda/cuda_gpu_executor.cc:981] successful NUMA node read from SysFS had negative value (-1), but there must be at least one NUMA node, so returning NUMA node zero\n",
      "2023-06-12 22:21:05.249080: I tensorflow/compiler/xla/stream_executor/cuda/cuda_gpu_executor.cc:981] successful NUMA node read from SysFS had negative value (-1), but there must be at least one NUMA node, so returning NUMA node zero\n",
      "2023-06-12 22:21:05.249119: I tensorflow/core/common_runtime/gpu/gpu_device.cc:1613] Created device /job:localhost/replica:0/task:0/device:GPU:0 with 7272 MB memory:  -> device: 0, name: NVIDIA GeForce RTX 3090, pci bus id: 0000:01:00.0, compute capability: 8.6\n"
     ]
    },
    {
     "name": "stdout",
     "output_type": "stream",
     "text": [
      "WARNING:tensorflow:No training configuration found in the save file, so the model was *not* compiled. Compile it manually.\n",
      "Model: \"model\"\n",
      "__________________________________________________________________________________________________\n",
      " Layer (type)                   Output Shape         Param #     Connected to                     \n",
      "==================================================================================================\n",
      " input_1 (InputLayer)           [(None, 128)]        0           []                               \n",
      "                                                                                                  \n",
      " input_2 (InputLayer)           [(None, 1)]          0           []                               \n",
      "                                                                                                  \n",
      " concatenate (Concatenate)      (None, 129)          0           ['input_1[0][0]',                \n",
      "                                                                  'input_2[0][0]']                \n",
      "                                                                                                  \n",
      " dense (Dense)                  (None, 128)          16640       ['concatenate[0][0]']            \n",
      "                                                                                                  \n",
      " reshape (Reshape)              (None, 1, 1, 128)    0           ['dense[0][0]']                  \n",
      "                                                                                                  \n",
      " reshape_1 (Reshape)            (None, 1, 1, 128)    0           ['dense[0][0]']                  \n",
      "                                                                                                  \n",
      " up_sampling2d (UpSampling2D)   (None, 2, 2, 128)    0           ['reshape[0][0]']                \n",
      "                                                                                                  \n",
      " up_sampling2d_3 (UpSampling2D)  (None, 2, 2, 128)   0           ['reshape_1[0][0]']              \n",
      "                                                                                                  \n",
      " conv2d (Conv2D)                (None, 2, 2, 128)    65664       ['up_sampling2d[0][0]']          \n",
      "                                                                                                  \n",
      " conv2d_3 (Conv2D)              (None, 2, 2, 128)    65664       ['up_sampling2d_3[0][0]']        \n",
      "                                                                                                  \n",
      " batch_normalization (BatchNorm  (None, 2, 2, 128)   512         ['conv2d[0][0]']                 \n",
      " alization)                                                                                       \n",
      "                                                                                                  \n",
      " batch_normalization_3 (BatchNo  (None, 2, 2, 128)   512         ['conv2d_3[0][0]']               \n",
      " rmalization)                                                                                     \n",
      "                                                                                                  \n",
      " leaky_re_lu (LeakyReLU)        (None, 2, 2, 128)    0           ['batch_normalization[0][0]']    \n",
      "                                                                                                  \n",
      " leaky_re_lu_3 (LeakyReLU)      (None, 2, 2, 128)    0           ['batch_normalization_3[0][0]']  \n",
      "                                                                                                  \n",
      " up_sampling2d_1 (UpSampling2D)  (None, 4, 4, 128)   0           ['leaky_re_lu[0][0]']            \n",
      "                                                                                                  \n",
      " up_sampling2d_4 (UpSampling2D)  (None, 4, 4, 128)   0           ['leaky_re_lu_3[0][0]']          \n",
      "                                                                                                  \n",
      " conv2d_1 (Conv2D)              (None, 4, 4, 128)    65664       ['up_sampling2d_1[0][0]']        \n",
      "                                                                                                  \n",
      " conv2d_4 (Conv2D)              (None, 4, 4, 128)    65664       ['up_sampling2d_4[0][0]']        \n",
      "                                                                                                  \n",
      " batch_normalization_1 (BatchNo  (None, 4, 4, 128)   512         ['conv2d_1[0][0]']               \n",
      " rmalization)                                                                                     \n",
      "                                                                                                  \n",
      " batch_normalization_4 (BatchNo  (None, 4, 4, 128)   512         ['conv2d_4[0][0]']               \n",
      " rmalization)                                                                                     \n",
      "                                                                                                  \n",
      " leaky_re_lu_1 (LeakyReLU)      (None, 4, 4, 128)    0           ['batch_normalization_1[0][0]']  \n",
      "                                                                                                  \n",
      " leaky_re_lu_4 (LeakyReLU)      (None, 4, 4, 128)    0           ['batch_normalization_4[0][0]']  \n",
      "                                                                                                  \n",
      " up_sampling2d_2 (UpSampling2D)  (None, 8, 8, 128)   0           ['leaky_re_lu_1[0][0]']          \n",
      "                                                                                                  \n",
      " up_sampling2d_5 (UpSampling2D)  (None, 8, 8, 128)   0           ['leaky_re_lu_4[0][0]']          \n",
      "                                                                                                  \n",
      " conv2d_2 (Conv2D)              (None, 8, 8, 128)    65664       ['up_sampling2d_2[0][0]']        \n",
      "                                                                                                  \n",
      " conv2d_5 (Conv2D)              (None, 8, 8, 128)    65664       ['up_sampling2d_5[0][0]']        \n",
      "                                                                                                  \n",
      " batch_normalization_2 (BatchNo  (None, 8, 8, 128)   512         ['conv2d_2[0][0]']               \n",
      " rmalization)                                                                                     \n",
      "                                                                                                  \n",
      " batch_normalization_5 (BatchNo  (None, 8, 8, 128)   512         ['conv2d_5[0][0]']               \n",
      " rmalization)                                                                                     \n",
      "                                                                                                  \n",
      " leaky_re_lu_2 (LeakyReLU)      (None, 8, 8, 128)    0           ['batch_normalization_2[0][0]']  \n",
      "                                                                                                  \n",
      " leaky_re_lu_5 (LeakyReLU)      (None, 8, 8, 128)    0           ['batch_normalization_5[0][0]']  \n",
      "                                                                                                  \n",
      " conv2d_6 (Conv2D)              (None, 6, 6, 1)      1153        ['leaky_re_lu_2[0][0]']          \n",
      "                                                                                                  \n",
      " conv2d_7 (Conv2D)              (None, 6, 6, 1)      1153        ['leaky_re_lu_5[0][0]']          \n",
      "                                                                                                  \n",
      "==================================================================================================\n",
      "Total params: 416,002\n",
      "Trainable params: 414,466\n",
      "Non-trainable params: 1,536\n",
      "__________________________________________________________________________________________________\n"
     ]
    },
    {
     "name": "stderr",
     "output_type": "stream",
     "text": [
      "WARNING:absl:`lr` is deprecated, please use `learning_rate` instead, or use the legacy optimizer, e.g.,tf.keras.optimizers.legacy.Adam.\n"
     ]
    },
    {
     "name": "stdout",
     "output_type": "stream",
     "text": [
      "None\n",
      "Model: \"model_1\"\n",
      "__________________________________________________________________________________________________\n",
      " Layer (type)                   Output Shape         Param #     Connected to                     \n",
      "==================================================================================================\n",
      " input_3 (InputLayer)           [(None, 6, 6, 1)]    0           []                               \n",
      "                                                                                                  \n",
      " input_4 (InputLayer)           [(None, 6, 6, 1)]    0           []                               \n",
      "                                                                                                  \n",
      " concatenate_1 (Concatenate)    (None, 6, 6, 2)      0           ['input_3[0][0]',                \n",
      "                                                                  'input_4[0][0]']                \n",
      "                                                                                                  \n",
      " flatten (Flatten)              (None, 72)           0           ['concatenate_1[0][0]']          \n",
      "                                                                                                  \n",
      " input_2 (InputLayer)           [(None, 1)]          0           []                               \n",
      "                                                                                                  \n",
      " concatenate_2 (Concatenate)    (None, 73)           0           ['flatten[0][0]',                \n",
      "                                                                  'input_2[0][0]']                \n",
      "                                                                                                  \n",
      " dense_1 (Dense)                (None, 64)           4736        ['concatenate_2[0][0]']          \n",
      "                                                                                                  \n",
      " leaky_re_lu_6 (LeakyReLU)      (None, 64)           0           ['dense_1[0][0]']                \n",
      "                                                                                                  \n",
      " dropout (Dropout)              (None, 64)           0           ['leaky_re_lu_6[0][0]']          \n",
      "                                                                                                  \n",
      " dense_2 (Dense)                (None, 64)           4160        ['dropout[0][0]']                \n",
      "                                                                                                  \n",
      " leaky_re_lu_7 (LeakyReLU)      (None, 64)           0           ['dense_2[0][0]']                \n",
      "                                                                                                  \n",
      " dropout_1 (Dropout)            (None, 64)           0           ['leaky_re_lu_7[0][0]']          \n",
      "                                                                                                  \n",
      " dense_3 (Dense)                (None, 64)           4160        ['dropout_1[0][0]']              \n",
      "                                                                                                  \n",
      " leaky_re_lu_8 (LeakyReLU)      (None, 64)           0           ['dense_3[0][0]']                \n",
      "                                                                                                  \n",
      " dropout_2 (Dropout)            (None, 64)           0           ['leaky_re_lu_8[0][0]']          \n",
      "                                                                                                  \n",
      " dense_4 (Dense)                (None, 1)            65          ['dropout_2[0][0]']              \n",
      "                                                                                                  \n",
      "==================================================================================================\n",
      "Total params: 13,121\n",
      "Trainable params: 13,121\n",
      "Non-trainable params: 0\n",
      "__________________________________________________________________________________________________\n",
      "None\n"
     ]
    }
   ],
   "source": [
    "\"\"\" models definition and extracting pretrained encoder and decoder \"\"\"\n",
    "encoder = load_model('./../data/nns/keep/encoder.h5')\n",
    "decoder = load_model('./../data/nns/keep/decoder.h5')\n",
    "\n",
    "class Config:\n",
    "    \n",
    "    def __init__(self):\n",
    "        self.Filters = [256, 128, 64]\n",
    "        self.genFilters = [128, 128, 128]\n",
    "        self.upFilters = [(2, 2), (2, 2), (2, 2)]\n",
    "        \n",
    "config = Config()\n",
    "\n",
    "## Generator \n",
    "z = Input(shape = (128, ))\n",
    "y = Input(shape = (1, ))\n",
    "\n",
    "h = Concatenate(axis = 1)([z, y])\n",
    "h = Dense(1 * 1 * 128)(h)\n",
    "R1 = Reshape([1, 1, 128])(h)\n",
    "R2 = Reshape([1, 1, 128])(h)\n",
    "\n",
    "for i in range(3):\n",
    "    R1 = UpSampling2D(size = config.upFilters[i])(R1)\n",
    "    C1 = Conv2D(filters = config.genFilters[i], \n",
    "               kernel_size = 2, \n",
    "               strides = 1, \n",
    "               padding = 'same')(R1)\n",
    "    B1 = BatchNormalization()(C1)\n",
    "    R1 = LeakyReLU(alpha=0.2)(B1)\n",
    "\n",
    "for i in range(3):\n",
    "    R2 = UpSampling2D(size = config.upFilters[i])(R2)\n",
    "    C2 = Conv2D(filters = config.genFilters[i], \n",
    "               kernel_size = 2, \n",
    "               strides = 1, \n",
    "               padding = 'same')(R2)\n",
    "    B2 = BatchNormalization()(C2)\n",
    "    R2 = LeakyReLU(alpha=0.2)(B2)\n",
    "    \n",
    "R1 = Conv2D(1,\n",
    "            kernel_size = 3,\n",
    "            strides = 1,\n",
    "            padding = 'valid',\n",
    "            activation = 'tanh')(R1)\n",
    "R2 = Conv2D(1,\n",
    "            kernel_size = 3,\n",
    "            strides = 1,\n",
    "            padding = 'valid',\n",
    "            activation = 'tanh')(R2)\n",
    "\n",
    "generator = Model([z, y], [R1, R2])\n",
    "print (generator.summary())\n",
    "\n",
    "## Discriminator \n",
    "inp1 = Input(shape = [6, 6, 1])\n",
    "inp2 = Input(shape = [6, 6, 1])\n",
    "\n",
    "X1 = Concatenate()([inp1, inp2])\n",
    "X = Flatten()(X1)\n",
    "y2 = Concatenate(axis = 1)([X, y])\n",
    "for i in range(3):\n",
    "\t\ty2 = Dense(64, activation = 'relu')(y2)\n",
    "\t\ty2 = LeakyReLU(alpha = 0.2)(y2)\n",
    "\t\ty2 = Dropout(0.2)(y2)\n",
    "\n",
    "O_dis = Dense(1, activation = 'sigmoid')(y2)\n",
    "\n",
    "\n",
    "discriminator = Model([inp1, inp2, y], O_dis)\n",
    "discriminator.compile(loss = 'binary_crossentropy', optimizer = Adam(lr = 5e-5, beta_1 = 0.5))\n",
    "print (discriminator.summary()) \n",
    "\n",
    "## Regressor\n",
    "inp1 = Input(shape = [6, 6, 1])\n",
    "inp2 = Input(shape = [6, 6, 1])\n",
    "\n",
    "yr = Concatenate()([inp1, inp2])\n",
    "\n",
    "tower0 = Conv2D(64, 1, padding = 'same')(yr)\n",
    "tower1 = Conv2D(64, 1, padding = 'same')(yr)\n",
    "tower1 = Conv2D(64, 3, padding = 'same')(tower1)\n",
    "tower2 = Conv2D(32, 1, padding = 'same')(yr)\n",
    "tower2 = Conv2D(32, 5, padding = 'same')(tower2)\n",
    "tower3 = MaxPooling2D(3, 1, padding = 'same')(yr)\n",
    "tower3 = Conv2D(32, 1, padding = 'same')(tower3)\n",
    "h = Concatenate()([tower0, tower1, tower2, tower3])\n",
    "h = ReLU()(h)\n",
    "h = MaxPooling2D(2, 1, padding = 'same')(h)\n",
    "\n",
    "for i in range(6):\n",
    "    tower0 = Conv2D(64, 1, padding = 'same')(h)\n",
    "    tower1 = Conv2D(64, 1, padding = 'same')(h)\n",
    "    tower1 = Conv2D(64, 3, padding = 'same')(tower1)\n",
    "    tower2 = Conv2D(32, 1, padding = 'same')(h)\n",
    "    tower2 = Conv2D(32, 5, padding = 'same')(tower2)\n",
    "    tower3 = MaxPooling2D(3, 1, padding = 'same')(h)\n",
    "    tower3 = Conv2D(32, 1, padding = 'same')(tower3)\n",
    "    h = Concatenate()([tower0, tower1, tower2, tower3])\n",
    "    h = ReLU()(h)\n",
    "    if i % 2 == 0 and i != 0:\n",
    "        h = MaxPooling2D(2, 1, padding = 'same')(h)\n",
    "h = BatchNormalization()(h)\n",
    "\n",
    "yr = Flatten()(h)\n",
    "o = Dropout(0.2)(yr)\n",
    "o = Dense(128)(o)\n",
    "\n",
    "o_reg = Dropout(0.2)(o)\n",
    "o_reg = Dense(1, activation = 'sigmoid')(o_reg)\n",
    "\n",
    "regressor = Model([inp1, inp2], o_reg)\n",
    "regressor_top = Model([inp1, inp2], o)"
   ]
  },
  {
   "cell_type": "code",
   "execution_count": 12,
   "id": "2b74e336",
   "metadata": {},
   "outputs": [
    {
     "name": "stderr",
     "output_type": "stream",
     "text": [
      "2023-06-12 22:21:06.805202: I tensorflow/compiler/xla/stream_executor/cuda/cuda_dnn.cc:428] Loaded cuDNN version 8100\n",
      "2023-06-12 22:21:07.191299: I tensorflow/tsl/platform/default/subprocess.cc:304] Start cannot spawn child process: No such file or directory\n"
     ]
    },
    {
     "name": "stdout",
     "output_type": "stream",
     "text": [
      "WARNING:tensorflow:No training configuration found in the save file, so the model was *not* compiled. Compile it manually.\n"
     ]
    },
    {
     "name": "stderr",
     "output_type": "stream",
     "text": [
      "WARNING:tensorflow:No training configuration found in the save file, so the model was *not* compiled. Compile it manually.\n"
     ]
    },
    {
     "name": "stdout",
     "output_type": "stream",
     "text": [
      ".h5 was read\n"
     ]
    },
    {
     "name": "stderr",
     "output_type": "stream",
     "text": [
      "2023-06-12 22:21:20.227180: I tensorflow/compiler/xla/stream_executor/cuda/cuda_blas.cc:630] TensorFloat-32 will be used for the matrix multiplication. This will only be logged once.\n",
      "2023-06-12 22:21:20.228477: I tensorflow/compiler/xla/service/service.cc:173] XLA service 0x7fe79dffd750 initialized for platform CUDA (this does not guarantee that XLA will be used). Devices:\n",
      "2023-06-12 22:21:20.228490: I tensorflow/compiler/xla/service/service.cc:181]   StreamExecutor device (0): NVIDIA GeForce RTX 3090, Compute Capability 8.6\n",
      "2023-06-12 22:21:20.231262: I tensorflow/compiler/mlir/tensorflow/utils/dump_mlir_util.cc:268] disabling MLIR crash reproducer, set env var `MLIR_CRASH_REPRODUCER_DIRECTORY` to enable.\n",
      "2023-06-12 22:21:20.267974: I tensorflow/tsl/platform/default/subprocess.cc:304] Start cannot spawn child process: No such file or directory\n",
      "2023-06-12 22:21:20.291037: I tensorflow/compiler/jit/xla_compilation_cache.cc:477] Compiled cluster using XLA!  This line is logged at most once for the lifetime of the process.\n"
     ]
    },
    {
     "name": "stdout",
     "output_type": "stream",
     "text": [
      "208/208 [==============================] - 10s 22ms/step - loss: 0.0017 - val_loss: 0.0022\n",
      "3316/3316 [==============================] - 7s 2ms/step\n",
      "Current R2 on Regressor for train data: 0.9543241744726285\n",
      "776/776 [==============================] - 1s 2ms/step\n",
      "Current R2 on Regressor for test data: 0.9316751069442544\n",
      "Train MSE: 0.17729, RMSE: 0.42106, MAE: 0.32169\n",
      "Test MSE: 0.26484, RMSE: 0.51462, MAE: 0.3823\n",
      "WARNING:tensorflow:Compiled the loaded model, but the compiled metrics have yet to be built. `model.compile_metrics` will be empty until you train or evaluate the model.\n"
     ]
    },
    {
     "name": "stderr",
     "output_type": "stream",
     "text": [
      "WARNING:tensorflow:Compiled the loaded model, but the compiled metrics have yet to be built. `model.compile_metrics` will be empty until you train or evaluate the model.\n"
     ]
    }
   ],
   "source": [
    "# Training the Regressor \n",
    "# latent vectors from trained Encoder, \n",
    "# last output of Encoder is concat. (O1, O2)\n",
    "train_atoms_embedding, train_bonds_embedding, _ = encoder.predict([X_smiles_train], verbose=0)\n",
    "atoms_embedding, bonds_embedding, _ = encoder.predict([X_smiles_train], verbose=0)\n",
    "atoms_val, bonds_val, _ = encoder.predict([X_smiles_val], verbose=0)\n",
    "\n",
    "# No training if the trained model is saved. \n",
    "regressor.trainable=True\n",
    "regressor_top.trainable=True\n",
    "try:\n",
    "    regressor = load_model('./../data/nns/keep/regressor.h5')\n",
    "    regressor_top = load_model('./../data/nns/keep/regressor_top.h5')\n",
    "    regressor.compile(loss = 'mse', optimizer = Adam(1e-7))\n",
    "    print (\".h5 was read\")\n",
    "except:\n",
    "    print (\"no .h5 available\")\n",
    "    regressor.compile(loss = 'mse', optimizer = Adam(1e-6))\n",
    "    pass\n",
    "    \n",
    "history = regressor.fit([atoms_embedding, bonds_embedding], \n",
    "              y_train,\n",
    "              validation_data = ([atoms_val,\n",
    "                                  bonds_val],\n",
    "                                 y_val),\n",
    "              batch_size = 512,\n",
    "              epochs = 1,\n",
    "              verbose = 1)\n",
    "    \n",
    "# Validating the regressor\n",
    "# Train\n",
    "pred_train = regressor.predict([atoms_embedding, bonds_embedding])\n",
    "pred_train0 = pred_train*(gap_max-gap_min)+gap_min\n",
    "print('Current R2 on Regressor for train data: {}'.format(r2_score(y_train0, pred_train0.reshape([-1]))))\n",
    "mse_train = mean_squared_error(y_train0, pred_train0.reshape([-1]))\n",
    "mae_train = mean_absolute_error(y_train0, pred_train0.reshape([-1]))\n",
    "\n",
    "#print ('prediction on train: ', pred_train)\n",
    "#print ('True train: ', y_train)\n",
    "\n",
    "# Test\n",
    "pred = regressor.predict([atoms_val, bonds_val])\n",
    "pred0 = pred*(gap_max-gap_min) + gap_min\n",
    "print('Current R2 on Regressor for test data: {}'.format(r2_score(y_val0, pred0.reshape([-1]))))\n",
    "mse_test = mean_squared_error (y_val0, pred0.reshape([-1]))\n",
    "mae_test = mean_absolute_error (y_val0, pred0.reshape([-1]))\n",
    "\n",
    "#print (\"prediction on test: \", pred )\n",
    "#print (\"True test values: \", y_val)\n",
    "\n",
    "print ('Train MSE: {}, RMSE: {}, MAE: {}'.format (round(mse_train, 5), \n",
    "                                                  round(mse_train**0.5, 5), \n",
    "                                                  round(mae_train, 5)))\n",
    "print ('Test MSE: {}, RMSE: {}, MAE: {}'.format (round(mse_test, 5), \n",
    "                                                  round(mse_test**0.5, 5), \n",
    "                                                  round(mae_test, 5)))\n",
    "# Saving the currently trained models\n",
    "regressor.save('./../data/nns/regressor.h5')\n",
    "regressor_top.save('./../data/nns/regressor_top.h5')\n",
    "\n",
    "# save the losses \n",
    "with open ('regressor_loss_0_150.csv', 'w') as f:\n",
    "    for key in history.history.keys():\n",
    "        f.write(\"%s,%s\\n\"%(key,history.history[key]))"
   ]
  },
  {
   "cell_type": "code",
   "execution_count": 13,
   "id": "cb9cf345",
   "metadata": {},
   "outputs": [
    {
     "name": "stdout",
     "output_type": "stream",
     "text": [
      "10.282122\n",
      "10.985\n",
      "10.338188\n",
      "10.757\n"
     ]
    }
   ],
   "source": [
    "print (np.max(pred0))\n",
    "print (np.max(y_train0))\n",
    "print (np.max(pred_train0))\n",
    "print (np.max(y_val0))"
   ]
  },
  {
   "cell_type": "code",
   "execution_count": 14,
   "id": "9165cbbe",
   "metadata": {},
   "outputs": [
    {
     "name": "stdout",
     "output_type": "stream",
     "text": [
      "MAE_pred_des 0.3823\n",
      "MAEF_pred_des [0.07621241]\n"
     ]
    }
   ],
   "source": [
    "MAE_pred_des = np.round (mean_absolute_error(pred0, y_val0), 4)\n",
    "print (\"MAE_pred_des\", MAE_pred_des)\n",
    "# Fractioned MAE, more normalized\n",
    "Fractioned_MAE_pred_des = 0\n",
    "for pred, true in zip(pred0, y_val0):\n",
    "        Fractioned_MAE_pred_des = Fractioned_MAE_pred_des +  abs(pred-true)/true\n",
    "Fractioned_MAE_pred_des = Fractioned_MAE_pred_des/(pred0.shape[0])\n",
    "print (\"MAEF_pred_des\", Fractioned_MAE_pred_des)"
   ]
  },
  {
   "cell_type": "code",
   "execution_count": 15,
   "id": "9d52a5b8",
   "metadata": {},
   "outputs": [
    {
     "data": {
      "image/png": "[encoded data removed]",
      "text/plain": [
       "<Figure size 500x400 with 1 Axes>"
      ]
     },
     "metadata": {},
     "output_type": "display_data"
    }
   ],
   "source": [
    "fig, ax = plt.subplots(figsize=(5, 4))\n",
    "plt.plot(list(range(len(history.history['loss']))), \n",
    "         history.history['loss'], label='Training loss', linewidth=3,) \n",
    "plt.plot(list(range(len(history.history['val_loss']))), \n",
    "         history.history['val_loss'], label='Validation loss', linewidth=3,) \n",
    "\n",
    "ax.set_xlabel('Epochs', fontsize='20', fontname='Arial', fontweight='bold', labelpad=5)\n",
    "ax.set_ylabel('Loss', fontsize='20', fontname='Arial', fontweight='bold', labelpad=5)\n",
    "\n",
    "ax.tick_params(direction='out', length=5, width=3, colors='black', grid_alpha=1, labelsize='18')\n",
    "\n",
    "[i.set_linewidth(2) for i in ax.spines.values()]\n",
    "\n",
    "\n",
    "#plt.title ('per {}, rand {}'.format(per, rand))\n",
    "\n",
    "#plt.ylim(0, 12)\n",
    "#plt.xticks((1, 3, 5, 7, 9,  11));\n",
    "#plt.yticks((1, 3, 5, 7, 9,  11));\n",
    "plt.title('Regressor loss', fontsize=15, fontname='Arial', fontweight='bold', pad=10)\n",
    "plt.legend(fontsize=15) \n",
    "plt.tight_layout()\n",
    "plt.savefig(\"R_loss_0_100.png\", dpi=300)"
   ]
  },
  {
   "cell_type": "code",
   "execution_count": 16,
   "id": "360345c6",
   "metadata": {},
   "outputs": [
    {
     "data": {
      "image/png": "[encoded data removed]",
      "text/plain": [
       "<Figure size 500x400 with 1 Axes>"
      ]
     },
     "metadata": {},
     "output_type": "display_data"
    }
   ],
   "source": [
    "fig, ax = plt.subplots(figsize=(5, 4))\n",
    "plt.rcParams[\"legend.markerscale\"] = 10\n",
    "plt.scatter (y_train0, pred_train0, color='red', label='Train', alpha=0.6, s=0.05)\n",
    "plt.scatter ( y_val0, pred0, color='blue', label='Test', alpha=0.6, s=0.05)\n",
    "\n",
    "plt.legend()\n",
    "\n",
    "ax.set_xlabel('DFT gap (eV)', fontsize='20', fontname='Arial', fontweight='bold', labelpad=5)\n",
    "ax.set_ylabel('Pred. gap (eV)', fontsize='20', fontname='Arial', fontweight='bold', labelpad=5)\n",
    "\n",
    "ax.tick_params(direction='out', length=5, width=3, colors='black', \n",
    "               grid_alpha=1, labelsize='18')\n",
    "\n",
    "[i.set_linewidth(3) for i in ax.spines.values()]\n",
    "leg = plt.legend(title='Train: R$^2$={}, MAE={} \\nTest: R$^2$={}, MAE={}'.\\\n",
    "           format(round(r2_score(y_train0, pred_train0.reshape([-1])), 2), \n",
    "                  round (mae_train, 2),\n",
    "                  round (r2_score(y_val0, pred0.reshape([-1])), 2), \n",
    "                  round (mae_test, 2), ), framealpha=0, title_fontsize=15)\n",
    "leg._legend_box.align = \"left\"\n",
    "\n",
    "#plt.title ('per {}, rand {}'.format(per, rand))\n",
    "plt.xlim(0, 12)\n",
    "plt.ylim(0, 12)\n",
    "plt.xticks((1, 3, 5, 7, 9,  11));\n",
    "plt.yticks((1, 3, 5, 7, 9,  11));\n",
    "plt.plot([0, 12], [0, 12], '--k', )#color='black')\n",
    "plt.tight_layout()\n",
    "plt.savefig('regressor_train_test.jpeg', dpi=300)\n",
    "plt.rcParams[\"legend.markerscale\"] = 1"
   ]
  },
  {
   "cell_type": "code",
   "execution_count": 17,
   "id": "6bfe6eb7",
   "metadata": {},
   "outputs": [],
   "source": [
    "K.clear_session()"
   ]
  },
  {
   "cell_type": "code",
   "execution_count": 18,
   "id": "d457c870",
   "metadata": {},
   "outputs": [],
   "source": [
    "## Combined model \n",
    "def build_combined(z, y,\n",
    "                   regressor,\n",
    "                   regressor_top,\n",
    "                   discriminator,\n",
    "                   encoder,\n",
    "                   decoder):\n",
    "    discriminator.trainable = False\n",
    "    regressor_top.trainable = False\n",
    "    regressor.trainable = False\n",
    "    encoder.trainable = False\n",
    "    decoder.trainable = False\n",
    "    \n",
    "    atoms_emb, bonds_emb = generator([z, y])\n",
    "    dec_embedding = Concatenate()([atoms_emb, bonds_emb])\n",
    "    \n",
    "    softmax_smiles, _ = decoder([dec_embedding])\n",
    "    argmax_smiles = argmax (softmax_smiles, axis=2)\n",
    "    argmax_smiles = Reshape([40])(argmax_smiles)\n",
    "    smiles = one_hot(argmax_smiles, depth=27)\n",
    "    smiles = Reshape([40, 27, 1])(smiles)\n",
    "    latent_encoder_atom, latent_encoder_bond, _ = encoder ([smiles])\n",
    "    \n",
    "    y_pred = regressor([latent_encoder_atom, latent_encoder_bond])\n",
    "    valid = discriminator([atoms_emb, bonds_emb, y])\n",
    "    #print ('valid from comb', valid)\n",
    "\n",
    "    combined = Model([z, y], [valid, y_pred])\n",
    "\n",
    "    combined.compile(loss = ['binary_crossentropy',\n",
    "                             'mse'], \n",
    "                     loss_weights = [0.01, 25.0], \n",
    "                     optimizer = Adam(5e-6, beta_1 = 0.5))\n",
    "    \n",
    "    return combined\n",
    "\n",
    "combined = build_combined(z, y,\n",
    "                          regressor,\n",
    "                          regressor_top,\n",
    "                          discriminator,\n",
    "                          encoder,\n",
    "                          decoder)"
   ]
  },
  {
   "cell_type": "code",
   "execution_count": 30,
   "id": "75c2af8c",
   "metadata": {},
   "outputs": [
    {
     "name": "stdout",
     "output_type": "stream",
     "text": [
      "WARNING:tensorflow:No training configuration found in the save file, so the model was *not* compiled. Compile it manually.\n"
     ]
    },
    {
     "name": "stderr",
     "output_type": "stream",
     "text": [
      "WARNING:tensorflow:No training configuration found in the save file, so the model was *not* compiled. Compile it manually.\n"
     ]
    },
    {
     "name": "stdout",
     "output_type": "stream",
     "text": [
      "WARNING:tensorflow:No training configuration found in the save file, so the model was *not* compiled. Compile it manually.\n"
     ]
    },
    {
     "name": "stderr",
     "output_type": "stream",
     "text": [
      "WARNING:tensorflow:No training configuration found in the save file, so the model was *not* compiled. Compile it manually.\n"
     ]
    },
    {
     "name": "stdout",
     "output_type": "stream",
     "text": [
      "====\n",
      "Current epoch: 1/1\n",
      "D Loss Real: 3.513031643945814\n",
      "D Loss Fake: 0.020251613983137597\n",
      "D Loss: 1.7666416289644757\n",
      "G Loss: 1.4392409013665242\n",
      "R Loss: 0.0016858305080213408\n",
      "====\n",
      "\n",
      "COC1=CC=CC=CC=CCCOCC1=O\n",
      "gap_des [0.40999091]\n",
      "error 0.16108\n",
      "CC(C)CCCCC1OCCC(C)O1\n",
      "gap_des [0.74328182]\n",
      "error 0.14981\n",
      "C1=CCCC(CCCC2CCCC2)=C1\n",
      "gap_des [0.58650909]\n",
      "error 0.15886\n",
      "CC1CSC[SH](C)[SH](C(C)N)C1\n",
      "gap_des [0.66258182]\n",
      "error 0.19551\n",
      "CCC(C)CC(C)CCCC=O\n",
      "gap_des [0.99116364]\n",
      "error 0.74535\n",
      "CC(CCO)CCN1CCC(CCN)N1\n",
      "gap_des [0.33933636]\n",
      "error 0.44511\n",
      "C=CC1CNC(=O)C(C)=C(C)NCOO1\n",
      "gap_des [0.46308182]\n",
      "error 0.00941\n",
      "O=CC1=CCNCCCC(OO)C1O\n",
      "gap_des [0.26842727]\n",
      "error 0.42809\n",
      "CC=CCC(C)C(C)OCCC\n",
      "gap_des [0.53156364]\n",
      "error 0.00501\n",
      "CCCCCC(COC)C1CC(CCCC)C1C\n",
      "gap_des [0.77327273]\n",
      "error 0.1505\n",
      "CCCCC1OC1(C)COC\n",
      "gap_des [0.83433636]\n",
      "error 0.32506\n",
      "CCCOC[PH]1(CC(C)OC)CCC(CC)C1\n",
      "gap_des [0.93595455]\n",
      "error 0.27672\n",
      "CCCCC1CNC(CO)CC(C)C1\n",
      "gap_des [0.99365455]\n",
      "error 0.62672\n",
      "CCCC(CCC)CC(N)CCCOO\n",
      "gap_des [0.76226364]\n",
      "error 0.13104\n",
      "CC(CO)CC=CSCC1CC1(C)C\n",
      "gap_des [0.5388]\n",
      "error 0.02312\n",
      "CCC1CC(CC)CC(C(C)O)C1\n",
      "gap_des [0.75607273]\n",
      "error 0.01377\n",
      "CCCCCC1CCCCCC1CCCC\n",
      "gap_des [0.74621818]\n",
      "error 0.25222\n",
      "C=CC1=CC(=O)OC(CC)C1\n",
      "gap_des [0.32063636]\n",
      "error 0.19148\n",
      "C=C1CC(C)(C(C)CC(C)C)C1(O)O\n",
      "gap_des [0.69300909]\n",
      "error 0.07355\n",
      "Currently valid SMILES (No chemical_beauty and sanitize off): 36\n",
      "Currently valid SMILES Unique (No chemical_beauty and sanitize off): 36\n",
      "Currently valid SMILES Sanitized: 19\n",
      "Currently valid Unique SMILES Sanitized: 19\n",
      "Currently satisfying SMILES: 12\n",
      "Currently unique satisfying generation: 12\n",
      "====\n",
      "\n",
      "time for current epoch:  189.4671175479889\n",
      "WARNING:tensorflow:Compiled the loaded model, but the compiled metrics have yet to be built. `model.compile_metrics` will be empty until you train or evaluate the model.\n"
     ]
    },
    {
     "name": "stderr",
     "output_type": "stream",
     "text": [
      "WARNING:tensorflow:Compiled the loaded model, but the compiled metrics have yet to be built. `model.compile_metrics` will be empty until you train or evaluate the model.\n"
     ]
    },
    {
     "name": "stdout",
     "output_type": "stream",
     "text": [
      "Done\n"
     ]
    }
   ],
   "source": [
    "p = multiprocessing.Process()\n",
    "\"\"\" Training RCGAN \"\"\"\n",
    "# loading pretrained models\n",
    "regressor = load_model    ('./../data/nns/regressor.h5')\n",
    "regressor_top = load_model('./../data/nns/regressor_top.h5')\n",
    "generator = load_model    ('./../data/nns/keep/generator.h5')\n",
    "discriminator = load_model ('./../data/nns/keep/discriminator.h5')\n",
    "#combined = load_model ('./../data/nns/combined.h5')\n",
    "\n",
    "regressor_top.trainable = False\n",
    "regressor.trainable = False\n",
    "\n",
    "# SMILES related information\n",
    "max_gen_atoms = 9\n",
    "bond_max = 9\n",
    "MAX_NB_WORDS = 27\n",
    "MAX_SEQUENCE_LENGTH = 40\n",
    "\n",
    "\n",
    "epochs = 1\n",
    "batch_size = 512\n",
    "batches = y_train0.shape[0] // batch_size\n",
    "threshold = 0.2 # defining accurate samples\n",
    "reinforce_n = 50 # 5*reinforce_n = fake sampling\n",
    "reinforce_sample = 1000 # how many samples generated for Reinforcement\n",
    "\n",
    "# variable for storing generated data\n",
    "G_Losses = []\n",
    "D_Losses = []\n",
    "R_Losses = []\n",
    "D_Losses_real = []\n",
    "D_Losses_fake = []\n",
    "\n",
    "for e in range(epochs):\n",
    "    start = time.time()\n",
    "    D_loss = []\n",
    "    G_loss = []\n",
    "    R_loss = []\n",
    "    D_loss_real = []\n",
    "    D_loss_fake = []\n",
    "    \n",
    "    for b in range(batches):\n",
    "        \n",
    "        regressor_top.trainable = False\n",
    "        regressor.trainable = False\n",
    "\n",
    "        idx = np.arange(b * batch_size, (b + 1) * batch_size)\n",
    "        # rearrange the samples \n",
    "        idx = np.random.choice(idx, batch_size, replace = False)\n",
    "        \n",
    "        x_smiles_train = X_smiles_train[idx] \n",
    "        batch_y = y_train[idx]\n",
    "        \n",
    "        batch_z = np.random.normal(0, 1, size = (batch_size, 128))\n",
    "        \n",
    "        atoms_embedding, bonds_embedding, _ = encoder.predict([x_smiles_train], verbose=0)\n",
    "        dec_embedding = np.concatenate([atoms_embedding, bonds_embedding], axis = -1)\n",
    "        \n",
    "        gen_atoms_embedding, gen_bonds_embedding = generator.predict([batch_z, batch_y], verbose=0)\n",
    "        \n",
    "        gen_dec_embedding = np.concatenate([gen_atoms_embedding, gen_bonds_embedding], axis = -1)\n",
    "        softmax_smiles = decoder.predict(gen_dec_embedding, verbose=0)[0]\n",
    "        \n",
    "        argmax_smiles = np.argmax(softmax_smiles, axis = 2)\n",
    "        smiles = to_categorical(argmax_smiles, num_classes=27)\n",
    "        SHAPE = list(smiles.shape) + [1]\n",
    "        smiles = smiles.reshape(SHAPE)\n",
    "        latent_encoder_atom, latent_encoder_bond, _ = encoder.predict([smiles], verbose=0)\n",
    "        gen_pred = regressor.predict([latent_encoder_atom, latent_encoder_bond], verbose=0).reshape([-1])\n",
    "        \n",
    "        regressor.trainable = True\n",
    "        r_loss = regressor.train_on_batch([atoms_embedding, bonds_embedding], batch_y)\n",
    "        R_loss.append(r_loss)\n",
    "        regressor.trainable = False\n",
    "\n",
    "        discriminator.trainable = True\n",
    "        # original was 3!\n",
    "        d = 3\n",
    "        #if b<100:\n",
    "        #    d=1\n",
    "        for _ in range(d):\n",
    "            d_loss_real = discriminator.train_on_batch([atoms_embedding, bonds_embedding, batch_y],\n",
    "                                                       [0.9 * np.ones((batch_size, 1))])\n",
    "            d_loss_fake = discriminator.train_on_batch([gen_atoms_embedding, gen_bonds_embedding, batch_y],\n",
    "                                                       [np.zeros((batch_size, 1))]) \n",
    "\n",
    "        d_loss = 0.5 * np.add(d_loss_real, d_loss_fake)\n",
    "        D_loss.append(d_loss)\n",
    "        D_loss_real.append (d_loss_real)\n",
    "        D_loss_fake.append (d_loss_fake)\n",
    "        discriminator.trainable = False\n",
    "        \n",
    "        regressor_top.trainable = False\n",
    "        regressor.trainable = False\n",
    "\n",
    "        #for _ in range(d):\n",
    "        g_loss = combined.train_on_batch([batch_z, batch_y], [0.9 * np.ones((batch_size, 1)), batch_y])\n",
    "        \n",
    "        G_loss.append(g_loss[0])\n",
    "    \n",
    "    D_Losses.append(np.mean(D_loss))\n",
    "    D_Losses_real.append(np.mean(D_loss_real))\n",
    "    D_Losses_fake.append(np.mean(D_loss_fake))\n",
    "    G_Losses.append(np.mean(G_loss))\n",
    "    R_Losses.append(np.mean(R_loss))\n",
    "    \n",
    "    print('====')\n",
    "    print('Current epoch: {}/{}'.format((e + 1), epochs))\n",
    "    print ('D Loss Real: {}'.format(np.mean(D_loss_real)))\n",
    "    print ('D Loss Fake: {}'.format(np.mean(D_loss_fake)))\n",
    "    print('D Loss: {}'.format(np.mean(D_loss)))\n",
    "    print('G Loss: {}'.format(np.mean(G_loss)))\n",
    "    print('R Loss: {}'.format(np.mean(R_loss)))\n",
    "    print('====')\n",
    "    print()\n",
    "\n",
    "    \n",
    "    # Reinforcement\n",
    "    gen_error = []\n",
    "    gen_smiles = []\n",
    "    gen_valid_smiles = []\n",
    "    gen_X_atoms = []\n",
    "    gen_X_bonds = []\n",
    "    predcv_AE_latent = []\n",
    "    embeddings = []\n",
    "    sample_ys = []\n",
    "    valid_smiles_index = []\n",
    "    for _ in range(reinforce_sample):\n",
    "        sample_y = np.random.uniform(gap_min, gap_max, size = [1, ])\n",
    "        sample_y = np.round(sample_y, 4)\n",
    "        sample_y = (sample_y - gap_min) / (gap_max - gap_min)\n",
    "        sample_ys.append(sample_y)\n",
    "\n",
    "        sample_z = np.random.normal(0, 1, size = (1, 128))\n",
    "\n",
    "        sample_atoms_embedding, sample_bonds_embedding = generator.predict([sample_z, sample_y], verbose=0)\n",
    "        embeddings.append((sample_atoms_embedding, sample_bonds_embedding))\n",
    "        \n",
    "        dec_embedding = np.concatenate([sample_atoms_embedding, sample_bonds_embedding], axis = -1)\n",
    "        softmax_smiles = decoder.predict(dec_embedding, verbose=0)[0]\n",
    "        argmax_smiles = np.argmax(softmax_smiles, axis = 2).reshape([-1])\n",
    "        smiles = to_categorical(argmax_smiles, num_classes=27)\n",
    "        SHAPE = [1] + list(smiles.shape) + [1]\n",
    "        smiles = smiles.reshape(SHAPE)\n",
    "        c_smiles = ''\n",
    "        for s in argmax_smiles:\n",
    "            c_smiles += tokenizer[s]\n",
    "        c_smiles = c_smiles.rstrip()\n",
    "        \n",
    "        gen_smiles.append(c_smiles)\n",
    "        latent_encoder_atom, latent_encoder_bond, _ = encoder.predict([smiles], verbose=0)\n",
    "        reg_pred = regressor.predict([latent_encoder_atom, latent_encoder_bond], verbose=0)\n",
    "        \n",
    "        pred, desire = reg_pred[0][0], sample_y[0]\n",
    "        gen_error.append(round (np.abs((pred - desire) / (6/11)), 5)) #!!!!!!!!!!!!! chenge it to desire\n",
    "\n",
    "        \n",
    "    gen_error = np.asarray(gen_error)\n",
    "    # two validity defined: \n",
    "\n",
    "    # without sanitizing: valid 0    \n",
    "    valid = 0\n",
    "    valid0 = 0\n",
    "    idx_ = []\n",
    "    idx0_ = []\n",
    "    for iter_, smiles in enumerate(gen_smiles):\n",
    "        if ' ' in smiles[:-1]:\n",
    "            continue\n",
    "        m  = Chem.MolFromSmiles(smiles[:-1], sanitize=True)\n",
    "        m0 = Chem.MolFromSmiles(smiles[:-1], sanitize=False)\n",
    "        if m0 is not None:\n",
    "            valid0 += 1\n",
    "            idx0_.append(iter_)\n",
    "        if m is not None:\n",
    "            #if len(construct_atomic_number_array(m)) <= 60:\n",
    "            valid += 1\n",
    "            idx_.append(iter_)\n",
    "            try:\n",
    "                gen_smiles [iter_] = Chem.MolToSmiles(m, canonical=True)\n",
    "                print (Chem.MolToSmiles(m, canonical=True))\n",
    "                print (\"gap_des\", sample_ys[iter_])\n",
    "                print (\"error\", gen_error[iter_])\n",
    "            except:\n",
    "                pass\n",
    "    idx_ = np.asarray(idx_)\n",
    "    idx0_ = np.asarray(idx0_)\n",
    "\n",
    "    validity = [gen_smiles[jj] for jj in idx0_ ]\n",
    "    validity = pd.DataFrame(validity)\n",
    "    validity = validity.drop_duplicates()\n",
    "\n",
    "    validity_sanitize = [gen_smiles[jj] for jj in idx_ ]\n",
    "    validity_sanitize = pd.DataFrame(validity_sanitize)\n",
    "    validity_sanitize = validity_sanitize.drop_duplicates()\n",
    "\n",
    "    if (e + 1) % 100 == 0:\n",
    "        reinforce_n += 10\n",
    "\n",
    "    # invalid smiles:\n",
    "    fake_indices1 = np.setdiff1d(np.arange(reinforce_sample), np.asarray(idx_))\n",
    "    fake_indices2 = np.intersect1d(np.where(gen_error > threshold)[0], idx_)\n",
    "    fake_indices = np.concatenate ((fake_indices1, fake_indices2))\n",
    "    fake_indices = np.random.choice(fake_indices, reinforce_n * 5, replace = False)\n",
    "\n",
    "    real_indices_ = np.intersect1d(np.where(gen_error <= threshold)[0], idx_)\n",
    "    sample_size =  len(real_indices_)\n",
    "    real_indices = np.random.choice(real_indices_, sample_size, replace = False)\n",
    "    \n",
    "    # Activating Reinforcement \n",
    "    if e >= 5:\n",
    "        discriminator.trainable = True\n",
    "        regressor_top.trainable = False\n",
    "        regressor.trainable = False\n",
    "        for real_index in real_indices:\n",
    "            #real_latent = regressor_top.predict([embeddings[real_index][0], embeddings[real_index][1]])\n",
    "            _ = discriminator.train_on_batch([embeddings[real_index][0], \n",
    "                                              embeddings[real_index][1], \n",
    "                                              sample_ys[real_index]],\n",
    "                                             [1 * np.ones((1, 1))])\n",
    "\n",
    "        for fake_index in fake_indices:\n",
    "            #fake_latent = regressor_top.predict([embeddings[fake_index][0], embeddings[fake_index][1]])\n",
    "            _ = discriminator.train_on_batch([embeddings[fake_index][0], \n",
    "                                              embeddings[fake_index][1] , \n",
    "                                              sample_ys[fake_index]],\n",
    "                                             [np.zeros((1, 1))])\n",
    "        discriminator.trainable = False\n",
    "\n",
    "    # ==== #\n",
    "    try:\n",
    "        print('Currently valid SMILES (No chemical_beauty and sanitize off): {}'.format(valid0))\n",
    "        print('Currently valid SMILES Unique (No chemical_beauty and sanitize off): {}'.format(len(validity)))\n",
    "        print('Currently valid SMILES Sanitized: {}'.format(valid))\n",
    "        print('Currently valid Unique SMILES Sanitized: {}'.format(len(validity_sanitize)))\n",
    "        print('Currently satisfying SMILES: {}'.format(len(real_indices_)))\n",
    "        print('Currently unique satisfying generation: {}'.format(len(np.unique(np.array(gen_smiles)[real_indices_]))))\n",
    "        #print('Gen Sample is: {}, for {}'.format(c_smiles, sample_y))\n",
    "        #print('Predicted val: {}'.format(reg_pred))\n",
    "        print('====')\n",
    "        print()\n",
    "    except:\n",
    "        pass\n",
    "    \n",
    "    if (e + 1) % 5 == 0:\n",
    "        plt.close()\n",
    "        fig, ax = plt.subplots(figsize = (12, 10))\n",
    "        ax.tick_params(axis='both', which='major', labelsize=30)\n",
    "        plt.plot(G_Losses, color='blue')\n",
    "        plt.plot(D_Losses, color='red')\n",
    "        plt.xlabel('epochs', fontsize=35)\n",
    "        plt.ylabel('loss', fontsize=35)\n",
    "        mpl.rcParams['axes.linewidth'] = 2.5\n",
    "        #plt.plot(R_Losses)\n",
    "        plt.legend(['G Loss', 'D Loss'], fontsize=30)\n",
    "        plt.savefig(\"G_D_losses{}.png\".format (e+1))\n",
    "    \n",
    "\n",
    "    n_unique = len(np.unique(np.array(gen_smiles)[real_indices_]))\n",
    "    n_valid = valid\n",
    "    if valid > 450 and n_unique > 350:\n",
    "        print('Criteria has satisified, training has ended')\n",
    "        break\n",
    "\n",
    "    end = time.time()\n",
    "    print (\"time for current epoch: \", (end - start))\n",
    "\n",
    "    tf.compat.v1.keras.backend.clear_session()\n",
    "with open('GAN_loss.pickle', 'wb') as f:\n",
    "    pickle.dump((G_Losses, D_Losses, R_Losses), f)\n",
    "\n",
    "# Saving the currently trained models\n",
    "#regressor.save('regressor.h5')\n",
    "#regressor_top.save('regressor_top.h5')\n",
    "generator.save('./../data/nns/generator.h5')\n",
    "discriminator.save('./../data/nns/discriminator.h5')\n",
    "combined.save('./../data/nns/combined.h5')\n",
    "\n",
    "p.start()\n",
    "\n",
    "p.join()\n",
    "print ('Done')"
   ]
  },
  {
   "cell_type": "code",
   "execution_count": 19,
   "id": "8dfb1749",
   "metadata": {},
   "outputs": [],
   "source": [
    "tf.compat.v1.keras.backend.clear_session()"
   ]
  },
  {
   "cell_type": "code",
   "execution_count": 21,
   "id": "b7e15d4d",
   "metadata": {
    "scrolled": true
   },
   "outputs": [
    {
     "name": "stdout",
     "output_type": "stream",
     "text": [
      "WARNING:tensorflow:No training configuration found in the save file, so the model was *not* compiled. Compile it manually.\n"
     ]
    },
    {
     "name": "stderr",
     "output_type": "stream",
     "text": [
      "WARNING:tensorflow:No training configuration found in the save file, so the model was *not* compiled. Compile it manually.\n"
     ]
    },
    {
     "name": "stdout",
     "output_type": "stream",
     "text": [
      "WARNING:tensorflow:No training configuration found in the save file, so the model was *not* compiled. Compile it manually.\n"
     ]
    },
    {
     "name": "stderr",
     "output_type": "stream",
     "text": [
      "WARNING:tensorflow:No training configuration found in the save file, so the model was *not* compiled. Compile it manually.\n"
     ]
    },
    {
     "name": "stdout",
     "output_type": "stream",
     "text": [
      "WARNING:tensorflow:No training configuration found in the save file, so the model was *not* compiled. Compile it manually.\n"
     ]
    },
    {
     "name": "stderr",
     "output_type": "stream",
     "text": [
      "WARNING:tensorflow:No training configuration found in the save file, so the model was *not* compiled. Compile it manually.\n"
     ]
    },
    {
     "name": "stdout",
     "output_type": "stream",
     "text": [
      "WARNING:tensorflow:No training configuration found in the save file, so the model was *not* compiled. Compile it manually.\n"
     ]
    },
    {
     "name": "stderr",
     "output_type": "stream",
     "text": [
      "WARNING:tensorflow:No training configuration found in the save file, so the model was *not* compiled. Compile it manually.\n",
      "100% |########################################################################|\n",
      "100% |########################################################################|\r"
     ]
    },
    {
     "name": "stdout",
     "output_type": "stream",
     "text": [
      "random seed 396\n",
      "explained_varice_R2_pred_des 0.48048614970617576\n",
      "r squared r**2 0.4322\n",
      "MAE_pred_des 1.2454\n",
      "% < 20 RE 0.6982\n",
      "RE mean 0.1783\n",
      "best r2 0.4322\n",
      "best random seed 396\n"
     ]
    },
    {
     "name": "stderr",
     "output_type": "stream",
     "text": [
      "\n"
     ]
    }
   ],
   "source": [
    "encoder = load_model('./../data/nns/keep/encoder.h5')\n",
    "decoder = load_model('./../data/nns/keep/decoder.h5')\n",
    "model = load_model('./../data/nns/keep/ae_model.h5')\n",
    "\n",
    "regressor = load_model    ('./../data/nns/keep/regressor.h5')\n",
    "regressor_top = load_model('./../data/nns/keep/regressor_top.h5')\n",
    "generator = load_model    ('./../data/nns/keep/generator.h5')\n",
    "discriminator= load_model ('./../data/nns/keep/discriminator.h5')\n",
    "\n",
    "pbar = ProgressBar()\n",
    "max = 0.3\n",
    "\n",
    "randS = []\n",
    "rsquaredS = []\n",
    "MAE_S = []\n",
    "less20RE_perS = []\n",
    "output_lenS = []\n",
    "mean_RE_S = []\n",
    "for rand in pbar(range (396, 397)):  \n",
    "    N = 200\n",
    "    n_sample = 100\n",
    "    gen_error = []\n",
    "    gen_smiles = []\n",
    "    sample_ys = []\n",
    "    preds = []\n",
    "  \n",
    "    predss_can = []\n",
    "    gen_atoms_embedding = []\n",
    "    gen_bonds_embedding = []\n",
    "\n",
    "    regressor_top.trainable = False\n",
    "    regressor.trainable = False\n",
    "    generator.trainable = False\n",
    "    discriminator.trainable = False\n",
    "\n",
    "    np.random.seed(rand)\n",
    "\n",
    "    pbar = ProgressBar()\n",
    "    samples = np.random.uniform(1, 11, size=[150, ])\n",
    "    for hc in (pbar(samples)):\n",
    "        try:\n",
    "            # get it back to original of s_min to s_max\n",
    "            #sample_y = np.random.uniform(0, 10.7, size=[1,])\n",
    "            sample_y = hc\n",
    "            #print (sample_y)\n",
    "            sample_y = np.round(sample_y, 4)\n",
    "            sample_y = sample_y * np.ones([N, ])\n",
    "            sample_y_ = (sample_y - gap_min) / (gap_max - gap_min)\n",
    "            sample_z = np.random.normal(0, 1, size = (N, 128))\n",
    "\n",
    "            regressor_top.trainable = False\n",
    "            regressor.trainable = False\n",
    "            encoder.trainable = False\n",
    "            decoder.trainable = False\n",
    "\n",
    "            sample_atoms_embedding, sample_bonds_embedding = generator.predict([sample_z, sample_y_], verbose=0)\n",
    "            dec_embedding = np.concatenate([sample_atoms_embedding, sample_bonds_embedding], axis = -1)\n",
    "\n",
    "            softmax_smiles = decoder.predict(dec_embedding, verbose=0)[0]\n",
    "            argmax_smiles = np.argmax(softmax_smiles, axis = 2)\n",
    "            #print (argmax_smiles)\n",
    "\n",
    "            #print ('shape argmax_smiles', argmax_smiles.shape)\n",
    "            smiles = to_categorical(argmax_smiles, num_classes=27)\n",
    "            \n",
    "            SHAPE = list(smiles.shape) + [1] \n",
    "            \n",
    "            #print ('shape line 767', SHAPE) \n",
    "            smiles = smiles.reshape(SHAPE)\n",
    "\n",
    "            latent_encoder_atom, latent_encoder_bond, _ = encoder.predict([smiles], verbose=0)\n",
    "            pred = regressor.predict([latent_encoder_atom, latent_encoder_bond], verbose=0).reshape([-1])\n",
    "            pred = pred * (gap_max - gap_min) + gap_min\n",
    "\n",
    "            gen_errors = np.abs((pred - sample_y) / sample_y).reshape([-1])\n",
    "\n",
    "\n",
    "            smiles = decoder.predict(dec_embedding, verbose=0)[0]\n",
    "            #print(smiles)\n",
    "            smiles = np.argmax(smiles, axis = 2).reshape(smiles.shape[0], 40)\n",
    "            \n",
    "\n",
    "            generated_smiles = []\n",
    "            \n",
    "            for S in smiles:\n",
    "                c_smiles = ''\n",
    "                for s in S:\n",
    "                    c_smiles += tokenizer[s]\n",
    "                c_smiles = c_smiles.rstrip()\n",
    "                #print (c_smiles)\n",
    "                generated_smiles.append(c_smiles)\n",
    "            generated_smiles = np.array(generated_smiles)\n",
    "            #generated_smiles = generated_smiles [accurate]\n",
    "            all_gen_smiles = []\n",
    "            idx = []\n",
    "            preds_can = []\n",
    "            for i, smiles in enumerate(generated_smiles):\n",
    "                all_gen_smiles.append(smiles[:-1])\n",
    "\n",
    "                if ' ' in smiles[:-1]:\n",
    "                    continue\n",
    "                #m = Chem.MolFromSmiles(smiles[:-1], sanitize=False)\n",
    "                m = Chem.MolFromSmiles(smiles[:-1], sanitize=True)\n",
    "                if m is not None:\n",
    "                    idx.append(i)\n",
    "                    smiles_can = Chem.MolToSmiles(m, canonical=True)\n",
    "                    smiles_can_dot = smiles_can + '.'\n",
    "                    X_smiles0 = tokenizer_.texts_to_sequences([smiles_can_dot])\n",
    "                    X_smiles1 = pad_sequences(X_smiles0, maxlen = 40, padding = 'post')\n",
    "                    X_smiles2 = to_categorical(X_smiles1, num_classes=27)\n",
    "                    latent_encoder_atom, latent_encoder_bond, _ = encoder.predict(X_smiles2, verbose=0)\n",
    "                    pred_can = regressor.predict([latent_encoder_atom, latent_encoder_bond], verbose=0).reshape([-1])\n",
    "                    pred_can = pred_can*11\n",
    "                    preds_can.append(pred_can[0])\n",
    "\n",
    "\n",
    "            idx = np.array(idx)\n",
    "            all_gen_smiles = np.array(all_gen_smiles)\n",
    "            #print ('all gen smiels shape', all_gen_smiles.shape)\n",
    "            #print ('gen_errors shape', gen_errors.shape)\n",
    "            #print (idx)\n",
    "            gen_smiles.extend(list(all_gen_smiles[idx]))\n",
    "            gen_error.extend(list(gen_errors[idx]))\n",
    "            sample_ys.extend(list(sample_y[idx]))\n",
    "            gen_atoms_embedding.extend(sample_atoms_embedding[idx])\n",
    "            gen_bonds_embedding.extend(sample_bonds_embedding[idx])\n",
    "            preds.extend(list(pred[idx]))\n",
    "            predss_can.extend(list(preds_can))\n",
    "        except:\n",
    "            #print('Did not discover SMILES for HC: {}'.format(sample_y))\n",
    "            pass    \n",
    "\n",
    "\n",
    "    output = {}\n",
    "\n",
    "    for i, s in enumerate (gen_smiles):\n",
    "        ss = Chem.MolToSmiles(Chem.MolFromSmiles(s, sanitize=True), canonical=True)\n",
    "        gen_smiles[i] = ss\n",
    "\n",
    "    output['SMILES'] = gen_smiles\n",
    "    output['des_gap'] = sample_ys\n",
    "    # More accurate for regressor to predict gap from canonical SMILES\n",
    "    output['pred_gap'] = predss_can\n",
    "    #output['Err_pred_des'] = gen_error\n",
    "    output['Err_pred_des'] = [abs(i- j)/i for i, j in zip(output['des_gap'], output['pred_gap'])]\n",
    "    output = pd.DataFrame(output)\n",
    "    output.reset_index(drop = True, inplace = True)\n",
    "    output.to_csv ('./../experiments/regular/Initial_training.csv', index=False)\n",
    "\n",
    "    ## Statistics  (# pred=True value, Des=prediction)\n",
    "    # total # of samples\n",
    "    N = len(predss_can)\n",
    "    print ('random seed', rand)\n",
    "\n",
    "    # Explained Variance R2 from sklearn.metrics.explained_variance_score\n",
    "    explained_variance_R2_pred_des = explained_variance_score(output['des_gap'], output['pred_gap'])\n",
    "    print (\"explained_varice_R2_pred_des\", explained_variance_R2_pred_des)\n",
    "    rsquared = np.round (r2_score (output['des_gap'], output['pred_gap']), 4)\n",
    "    print (\"r squared r**2\", rsquared)\n",
    "\n",
    "    # mean absolute error \n",
    "    MAE_pred_des = np.round (mean_absolute_error(output['pred_gap'], output['des_gap']), 4)\n",
    "    print (\"MAE_pred_des\", MAE_pred_des)\n",
    "    # Fractioned MAE, more normalized\n",
    "    Fractioned_MAE_pred_des = 0\n",
    "    for pred, des in zip(output['pred_gap'], output['des_gap']):\n",
    "        Fractioned_MAE_pred_des = Fractioned_MAE_pred_des +  abs(des-pred)/des\n",
    "    Fractioned_MAE_pred_des = Fractioned_MAE_pred_des/N\n",
    "    #print (\"Fractioned MAE_pred_des\", Fractioned_MAE_pred_des)\n",
    "\n",
    "    # root mean squared error (RMSE), sqrt(sklearn ouputs MSE)\n",
    "    RMSE_pred_des = mean_squared_error(output['pred_gap'], output['des_gap'])**0.5\n",
    "    #print (\"RMSE_pred_des\", RMSE_pred_des)\n",
    "\n",
    "    Fractioned_RMSE_pred_des = 0\n",
    "    for pred, des in zip(output['pred_gap'], output['des_gap']):\n",
    "        Fractioned_RMSE_pred_des = Fractioned_RMSE_pred_des + ((des-pred)/des)**2\n",
    "    Fractioned_RMSE_pred_des = (Fractioned_RMSE_pred_des/N)**0.5\n",
    "    #print (\"Fractioned_RMSE_pred_des\", Fractioned_RMSE_pred_des)\n",
    "\n",
    "    # do not drop duplicate\n",
    "    output2 = output.drop_duplicates(['SMILES'])\n",
    "    output2.reset_index(drop = True, inplace = True)\n",
    "    output2.to_csv('./../experiments/regular/Initial_training_nodub.csv', index = False)\n",
    "    \"\"\"with open('gen_pickles.pickle', 'wb') as f:\n",
    "        pickle.dump(gen_unique_pickles, f)\n",
    "    \"\"\"\n",
    "    #print ('% < 20 RE NODUP', sum (output2['Err_pred_des'] < 0.2) / output2['Err_pred_des'].shape[0])\n",
    "    less20RE_per = np.round ((sum(output['Err_pred_des'] <= 0.2) / output['Err_pred_des'].shape[0]), 4)\n",
    "    print ('% < 20 RE', less20RE_per)\n",
    "    output_len = len(output)\n",
    "    explained_variance_R2_pred_des = explained_variance_score(output['des_gap'], output['pred_gap'])\n",
    "    #print (\"explained_varice_R2_pred_des\", explained_variance_R2_pred_des)\n",
    "    mean_RE = np.round (np.mean (output['Err_pred_des']), 4)\n",
    "    print ('RE mean', mean_RE)\n",
    "\n",
    "    randS.append(rand)\n",
    "    rsquaredS.append(rsquared)\n",
    "    MAE_S.append(MAE_pred_des)\n",
    "    less20RE_perS.append(less20RE_per)\n",
    "    mean_RE_S.append(mean_RE)\n",
    "    output_lenS.append(output_len)\n",
    "\n",
    "    if rsquared>max:\n",
    "        good_rand = rand\n",
    "        max = rsquared\n",
    "        best_r2 = rsquared\n",
    "        print ('best r2', best_r2)\n",
    "        print ('best random seed', good_rand)\n",
    "    \n",
    "    tf.compat.v1.keras.backend.clear_session()\n",
    "\n",
    "params = {}\n",
    "params ['rand'] = randS\n",
    "params ['r2'] = rsquaredS\n",
    "params ['MAE'] = MAE_S\n",
    "params ['less20RE_per'] = less20RE_perS\n",
    "params ['Average_RE'] = mean_RE_S\n",
    "params ['total_valid'] = output_lenS\n",
    "params = pd.DataFrame(params)\n",
    "params.reset_index(drop = True, inplace = True)\n",
    "params.to_csv ('./gen_params.csv', index=False)"
   ]
  },
  {
   "cell_type": "code",
   "execution_count": 22,
   "id": "53bf8833",
   "metadata": {},
   "outputs": [
    {
     "data": {
      "text/plain": [
       "(941, 4)"
      ]
     },
     "execution_count": 22,
     "metadata": {},
     "output_type": "execute_result"
    }
   ],
   "source": [
    "output.shape"
   ]
  },
  {
   "cell_type": "code",
   "execution_count": 23,
   "id": "83ff72f8",
   "metadata": {},
   "outputs": [
    {
     "data": {
      "text/plain": [
       "0.7118"
      ]
     },
     "execution_count": 23,
     "metadata": {},
     "output_type": "execute_result"
    }
   ],
   "source": [
    "output_screen = output.loc[output['Err_pred_des']<0.8]\n",
    "less20RE_per = np.round ((sum(output_screen['Err_pred_des'] < 0.2) / output_screen['Err_pred_des'].shape[0]), 4)\n",
    "less20RE_per"
   ]
  },
  {
   "cell_type": "code",
   "execution_count": 24,
   "id": "1f684d2a",
   "metadata": {},
   "outputs": [],
   "source": [
    "output['RE_pred_mean'] = [abs(i-j)/6 for i,j in zip(output['pred_gap'], output['des_gap'])]"
   ]
  },
  {
   "cell_type": "code",
   "execution_count": 25,
   "id": "3ea632fc",
   "metadata": {},
   "outputs": [
    {
     "data": {
      "text/plain": [
       "<Axes: xlabel='RE_pred_mean', ylabel='Count'>"
      ]
     },
     "execution_count": 25,
     "metadata": {},
     "output_type": "execute_result"
    },
    {
     "data": {
      "image/png": "[encoded data removed]",
      "text/plain": [
       "<Figure size 640x480 with 1 Axes>"
      ]
     },
     "metadata": {},
     "output_type": "display_data"
    }
   ],
   "source": [
    "sns.histplot (output['RE_pred_mean'], bins=20)"
   ]
  },
  {
   "cell_type": "code",
   "execution_count": 26,
   "id": "dce1d41f",
   "metadata": {},
   "outputs": [
    {
     "name": "stdout",
     "output_type": "stream",
     "text": [
      "best r2 0.4322\n",
      "best random seed 396\n"
     ]
    }
   ],
   "source": [
    "try:\n",
    "    print ('best r2', best_r2)\n",
    "    print ('best random seed', good_rand)\n",
    "except:\n",
    "    pass"
   ]
  },
  {
   "cell_type": "code",
   "execution_count": 27,
   "id": "4877e8a8",
   "metadata": {},
   "outputs": [
    {
     "data": {
      "text/plain": [
       "[<matplotlib.lines.Line2D at 0x7fe8c0490190>]"
      ]
     },
     "execution_count": 27,
     "metadata": {},
     "output_type": "execute_result"
    },
    {
     "data": {
      "image/png": "[encoded data removed]",
      "text/plain": [
       "<Figure size 640x480 with 1 Axes>"
      ]
     },
     "metadata": {},
     "output_type": "display_data"
    }
   ],
   "source": [
    "plt.scatter (output['des_gap'].loc[output['Err_pred_des']<=0.7], output['pred_gap'].loc[output['Err_pred_des']<=0.7], s=5, color='red')\n",
    "plt.scatter (output['des_gap'].loc[output['Err_pred_des']>0.7], output['pred_gap'].loc[output['Err_pred_des']>0.7], s=5, marker='*', color='blue')\n",
    "#sns.scatterplot (x='des_gap', y='pred_gap', palette='Reds', s=15, edgecolor=None, data=output.loc[output['Err_pred_des']<0.7])\n",
    "plt.plot([1, 11], [1, 11], '--k', )"
   ]
  }
 ],
 "metadata": {
  "kernelspec": {
   "display_name": "Python 3 (ipykernel)",
   "language": "python",
   "name": "python3"
  },
  "language_info": {
   "codemirror_mode": {
    "name": "ipython",
    "version": 3
   },
   "file_extension": ".py",
   "mimetype": "text/x-python",
   "name": "python",
   "nbconvert_exporter": "python",
   "pygments_lexer": "ipython3",
   "version": "3.9.13"
  }
 },
 "nbformat": 4,
 "nbformat_minor": 5
}
