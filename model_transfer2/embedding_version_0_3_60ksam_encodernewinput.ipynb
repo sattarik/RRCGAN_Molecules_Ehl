{
 "cells": [
  {
   "cell_type": "code",
   "execution_count": 1,
   "id": "07ea4c9a",
   "metadata": {},
   "outputs": [
    {
     "name": "stderr",
     "output_type": "stream",
     "text": [
      "2023-05-19 10:26:23.416232: I tensorflow/core/platform/cpu_feature_guard.cc:193] This TensorFlow binary is optimized with oneAPI Deep Neural Network Library (oneDNN) to use the following CPU instructions in performance-critical operations:  AVX2 AVX_VNNI FMA\n",
      "To enable them in other operations, rebuild TensorFlow with the appropriate compiler flags.\n",
      "2023-05-19 10:26:23.488569: I tensorflow/core/util/port.cc:104] oneDNN custom operations are on. You may see slightly different numerical results due to floating-point round-off errors from different computation orders. To turn them off, set the environment variable `TF_ENABLE_ONEDNN_OPTS=0`.\n",
      "2023-05-19 10:26:23.833917: W tensorflow/compiler/xla/stream_executor/platform/default/dso_loader.cc:64] Could not load dynamic library 'libnvinfer.so.7'; dlerror: libnvinfer.so.7: cannot open shared object file: No such file or directory; LD_LIBRARY_PATH: /usr/local/cuda/lib64:/usr/local/cuda-11.2/lib64:\n",
      "2023-05-19 10:26:23.833958: W tensorflow/compiler/xla/stream_executor/platform/default/dso_loader.cc:64] Could not load dynamic library 'libnvinfer_plugin.so.7'; dlerror: libnvinfer_plugin.so.7: cannot open shared object file: No such file or directory; LD_LIBRARY_PATH: /usr/local/cuda/lib64:/usr/local/cuda-11.2/lib64:\n",
      "2023-05-19 10:26:23.833961: W tensorflow/compiler/tf2tensorrt/utils/py_utils.cc:38] TF-TRT Warning: Cannot dlopen some TensorRT libraries. If you would like to use Nvidia GPU with TensorRT, please make sure the missing libraries mentioned above are installed properly.\n"
     ]
    }
   ],
   "source": [
    "import warnings\n",
    "warnings.filterwarnings('ignore')\n",
    "\n",
    "import os\n",
    "import pandas as pd\n",
    "import tensorflow as tf\n",
    "\n",
    "from tensorflow import keras\n",
    "import random\n",
    "import numpy as np\n",
    "from numpy import ndarray\n",
    "from sklearn.model_selection import train_test_split\n",
    "from sklearn.feature_extraction.text import CountVectorizer\n",
    "import pickle\n",
    "\n",
    "from tensorflow.keras.layers import (Input, Dropout, LSTM, Reshape, LeakyReLU,\n",
    "                          Concatenate, ReLU, Flatten, Dense, Embedding,\n",
    "                          BatchNormalization, Activation, SpatialDropout1D,\n",
    "                          Conv2D, MaxPooling2D, Softmax, \n",
    "                           Lambda)\n",
    "#from tensorflow.keras.layers.experimental.preprocessing import CategoryEncoding\n",
    "from tensorflow.keras.models import Model, load_model\n",
    "from tensorflow.keras.optimizers import Adam, RMSprop\n",
    "import tensorflow.keras.backend as K\n",
    "from tensorflow.keras.activations import tanh\n",
    "\n",
    "from tensorflow.keras.preprocessing.text import Tokenizer\n",
    "from tensorflow.keras.preprocessing.sequence import pad_sequences\n",
    "#import np_utils\n",
    "from tensorflow.keras.utils import to_categorical\n",
    "from IPython.display import clear_output\n",
    "import matplotlib.pyplot as plt\n",
    "import csv\n",
    "from progressbar import ProgressBar\n",
    "import seaborn as sns\n",
    "from tensorflow import random as randomtf\n",
    "from tensorflow.keras.backend import argmax as argmax\n",
    "\n",
    "from tensorflow import one_hot\n",
    "from rdkit import rdBase\n",
    "rdBase.DisableLog('rdApp.error')\n",
    "from sklearn.metrics import mean_absolute_error\n",
    "from sklearn.metrics import mean_squared_error\n",
    "from rdkit import Chem\n",
    "from sklearn.metrics import r2_score\n",
    "\n",
    "randomtf.set_seed(1)\n",
    "os.environ['PYTHONHASHSEED'] = '0'\n",
    "np.random.seed(42)\n",
    "random.seed(12345)\n",
    "import matplotlib as mpl\n",
    "from matplotlib import rc, rcParams"
   ]
  },
  {
   "cell_type": "code",
   "execution_count": 2,
   "id": "2882ab0b",
   "metadata": {},
   "outputs": [
    {
     "name": "stderr",
     "output_type": "stream",
     "text": [
      "2023-05-19 10:26:25.078235: I tensorflow/core/platform/cpu_feature_guard.cc:193] This TensorFlow binary is optimized with oneAPI Deep Neural Network Library (oneDNN) to use the following CPU instructions in performance-critical operations:  AVX2 AVX_VNNI FMA\n",
      "To enable them in other operations, rebuild TensorFlow with the appropriate compiler flags.\n",
      "2023-05-19 10:26:25.084033: I tensorflow/compiler/xla/stream_executor/cuda/cuda_gpu_executor.cc:981] successful NUMA node read from SysFS had negative value (-1), but there must be at least one NUMA node, so returning NUMA node zero\n",
      "2023-05-19 10:26:25.089227: I tensorflow/compiler/xla/stream_executor/cuda/cuda_gpu_executor.cc:981] successful NUMA node read from SysFS had negative value (-1), but there must be at least one NUMA node, so returning NUMA node zero\n",
      "2023-05-19 10:26:25.089409: I tensorflow/compiler/xla/stream_executor/cuda/cuda_gpu_executor.cc:981] successful NUMA node read from SysFS had negative value (-1), but there must be at least one NUMA node, so returning NUMA node zero\n"
     ]
    },
    {
     "name": "stdout",
     "output_type": "stream",
     "text": [
      "WARNING:tensorflow:From /tmp/ipykernel_12675/3974400901.py:5: The name tf.keras.backend.set_session is deprecated. Please use tf.compat.v1.keras.backend.set_session instead.\n",
      "\n"
     ]
    },
    {
     "name": "stderr",
     "output_type": "stream",
     "text": [
      "2023-05-19 10:26:25.448580: I tensorflow/compiler/xla/stream_executor/cuda/cuda_gpu_executor.cc:981] successful NUMA node read from SysFS had negative value (-1), but there must be at least one NUMA node, so returning NUMA node zero\n",
      "2023-05-19 10:26:25.448728: I tensorflow/compiler/xla/stream_executor/cuda/cuda_gpu_executor.cc:981] successful NUMA node read from SysFS had negative value (-1), but there must be at least one NUMA node, so returning NUMA node zero\n",
      "2023-05-19 10:26:25.448792: I tensorflow/compiler/xla/stream_executor/cuda/cuda_gpu_executor.cc:981] successful NUMA node read from SysFS had negative value (-1), but there must be at least one NUMA node, so returning NUMA node zero\n",
      "2023-05-19 10:26:25.448845: I tensorflow/core/common_runtime/gpu/gpu_device.cc:1613] Created device /job:localhost/replica:0/task:0/device:GPU:0 with 7272 MB memory:  -> device: 0, name: NVIDIA GeForce RTX 3090, pci bus id: 0000:01:00.0, compute capability: 8.6\n"
     ]
    }
   ],
   "source": [
    "gpu_options = tf.compat.v1.GPUOptions(per_process_gpu_memory_fraction=0.3)\n",
    "session_conf = tf.compat.v1.ConfigProto(intra_op_parallelism_threads=1, inter_op_parallelism_threads=1, gpu_options=gpu_options)\n",
    "tf.compat.v1.set_random_seed(1234)\n",
    "sess = tf.compat.v1.Session(graph=tf.compat.v1.get_default_graph(), config=session_conf)\n",
    "tf.compat.v1.keras.backend.set_session(sess)"
   ]
  },
  {
   "cell_type": "code",
   "execution_count": 4,
   "id": "3d7deea2",
   "metadata": {},
   "outputs": [
    {
     "data": {
      "text/plain": [
       "Text(0.5, 0, '!!!Ariaaaal')"
      ]
     },
     "execution_count": 4,
     "metadata": {},
     "output_type": "execute_result"
    },
    {
     "data": {
      "image/png": "[encoded data removed]",
      "text/plain": [
       "<Figure size 500x400 with 1 Axes>"
      ]
     },
     "metadata": {},
     "output_type": "display_data"
    }
   ],
   "source": [
    "# check the font !!!!!!!!!!!!!!!!!!!!!\n",
    "# switch to Arial\n",
    "# if not working: delet ~/.catch/matplotlib\n",
    "plt.rcParams[\"font.family\"] = \"Arial\"\n",
    "plt.rcParams['ps.useafm'] = True\n",
    "plt.rcParams['pdf.fonttype'] = 42\n",
    "mpl.font_manager.FontManager()\n",
    "\n",
    "rc('font', weight='bold')\n",
    "fig, ax = plt.subplots(figsize=(5, 4))\n",
    "plt.scatter([10, 55], [10, 55])\n",
    "ax.tick_params(axis='both', length=0, width=1.5, colors='black', grid_alpha=0, labelsize=20)\n",
    "plt.xlabel('!!!Ariaaaal', fontname='Arial', fontsize=50)"
   ]
  },
  {
   "cell_type": "code",
   "execution_count": 5,
   "id": "9d66a947",
   "metadata": {},
   "outputs": [],
   "source": [
    "tf.compat.v1.keras.backend.clear_session()\n",
    "with open('./../data/trainingsets/60000_train_regular_pubqc/tokenizer.pickle', 'rb') as f:\n",
    "    tokenizer = pickle.load(f)\n",
    "tokenizer[0] = ' '\n",
    "with open('./../data/trainingsets/60000_train_regular_pubqc/tokenizer_object.pickle', 'rb') as f:\n",
    "    tokenizer_ = pickle.load(f)"
   ]
  },
  {
   "cell_type": "code",
   "execution_count": 6,
   "id": "ac16fabb",
   "metadata": {},
   "outputs": [],
   "source": [
    "with open('./../data/trainingsets/highgap_outliergen_trans1/image.pickle', 'rb') as f:\n",
    "    X_smiles_gen, SMILES_gen, y_gen = pickle.load(f) \n",
    "    \n",
    "with open('./../data/trainingsets/highgap_outliergen_trans1/image_train.pickle', 'rb') as f:\n",
    "    X_smiles_train_gen, SMILES_train_gen, y_train_gen = pickle.load(f)\n",
    "    \n",
    "with open('./../data/trainingsets/highgap_outliergen_trans1/image_test.pickle', 'rb') as f:\n",
    "    X_smiles_test_gen, SMILES_test_gen, y_test_gen = pickle.load(f)"
   ]
  },
  {
   "cell_type": "code",
   "execution_count": 7,
   "id": "13c6a788",
   "metadata": {},
   "outputs": [],
   "source": [
    "SMILES_gen = np.array (SMILES_gen)\n",
    "y_gen = np.array (y_gen)"
   ]
  },
  {
   "cell_type": "code",
   "execution_count": 8,
   "id": "50c1661f",
   "metadata": {},
   "outputs": [],
   "source": [
    "with open('./../data/trainingsets/highgap_pubqc/image.pickle', 'rb') as f:\n",
    "    X_smiles_pubqc, SMILES_pubqc, y_pubqc = pickle.load(f) \n",
    "    \n",
    "with open('./../data/trainingsets/highgap_pubqc/image_train.pickle', 'rb') as f:\n",
    "    X_smiles_train_pubqc, SMILES_train_pubqc, y_train_pubqc = pickle.load(f) \n",
    "    \n",
    "with open('./../data/trainingsets/highgap_pubqc/image_test.pickle', 'rb') as f:\n",
    "    X_smiles_test_pubqc, SMILES_test_pubqc, y_test_pubqc = pickle.load(f) "
   ]
  },
  {
   "cell_type": "code",
   "execution_count": 9,
   "id": "8e72144c",
   "metadata": {},
   "outputs": [
    {
     "name": "stdout",
     "output_type": "stream",
     "text": [
      "(1371,)\n",
      "(1371, 40, 27, 1)\n"
     ]
    }
   ],
   "source": [
    "X_smiles = np.concatenate ((X_smiles_pubqc, X_smiles_gen), axis=0)\n",
    "SMILES = np.concatenate ((SMILES_pubqc, SMILES_gen), axis=0)\n",
    "y = np.concatenate ((y_pubqc, y_gen), axis=0)\n",
    "print (y.shape)\n",
    "print (X_smiles.shape)"
   ]
  },
  {
   "cell_type": "code",
   "execution_count": 10,
   "id": "db60be96",
   "metadata": {},
   "outputs": [
    {
     "data": {
      "text/plain": [
       "<Axes: ylabel='Count'>"
      ]
     },
     "execution_count": 10,
     "metadata": {},
     "output_type": "execute_result"
    },
    {
     "data": {
      "image/png": "[encoded data removed]",
      "text/plain": [
       "<Figure size 640x480 with 1 Axes>"
      ]
     },
     "metadata": {},
     "output_type": "display_data"
    }
   ],
   "source": [
    "sns.histplot (y)"
   ]
  },
  {
   "cell_type": "code",
   "execution_count": 11,
   "id": "642c8f17",
   "metadata": {},
   "outputs": [],
   "source": [
    "for s in SMILES:\n",
    "    if s[-1] != '.':\n",
    "        print('!error')"
   ]
  },
  {
   "cell_type": "code",
   "execution_count": 12,
   "id": "6677b48f",
   "metadata": {},
   "outputs": [
    {
     "data": {
      "text/plain": [
       "array(['CCCCCCCC.', 'N#N.', 'C1CC1.', ..., 'CCCCC1C2CCC1C2C.',\n",
       "       'CCC(C)(C)CC(C)F.', 'CCC12CCCC3C1CCC32.'], dtype=object)"
      ]
     },
     "execution_count": 12,
     "metadata": {},
     "output_type": "execute_result"
    }
   ],
   "source": [
    "SMILES"
   ]
  },
  {
   "cell_type": "code",
   "execution_count": 13,
   "id": "d991084b",
   "metadata": {},
   "outputs": [
    {
     "name": "stdout",
     "output_type": "stream",
     "text": [
      "(1096,)\n",
      "(1096, 40, 27, 1)\n"
     ]
    }
   ],
   "source": [
    "X_smiles_train = np.concatenate ((X_smiles_train_pubqc, X_smiles_train_gen), axis=0)\n",
    "SMILES_train = np.concatenate ((SMILES_train_pubqc, SMILES_train_gen), axis=0)\n",
    "y_train = np.concatenate ((y_train_pubqc, y_train_gen), axis=0)\n",
    "print (y_train.shape)\n",
    "print (X_smiles_train.shape)"
   ]
  },
  {
   "cell_type": "code",
   "execution_count": 14,
   "id": "61e5a8ae",
   "metadata": {},
   "outputs": [],
   "source": [
    "for s in SMILES_train:\n",
    "    if s[-1] != '.':\n",
    "        print('!error')"
   ]
  },
  {
   "cell_type": "code",
   "execution_count": 15,
   "id": "6679b631",
   "metadata": {},
   "outputs": [
    {
     "name": "stdout",
     "output_type": "stream",
     "text": [
      "(275,)\n",
      "(275, 40, 27, 1)\n"
     ]
    }
   ],
   "source": [
    "X_smiles_test = np.concatenate ((X_smiles_test_pubqc, X_smiles_test_gen), axis=0)\n",
    "SMILES_test = np.concatenate ((SMILES_test_pubqc, SMILES_test_gen), axis=0)\n",
    "y_test = np.concatenate ((y_test_pubqc, y_test_gen), axis=0)\n",
    "print (y_test.shape)\n",
    "print (X_smiles_test.shape)"
   ]
  },
  {
   "cell_type": "code",
   "execution_count": 16,
   "id": "539b29e0",
   "metadata": {},
   "outputs": [],
   "source": [
    "for s in SMILES_test:\n",
    "    if s[-1] != '.':\n",
    "        print('!error')"
   ]
  },
  {
   "cell_type": "code",
   "execution_count": 17,
   "id": "4907c8ab",
   "metadata": {},
   "outputs": [],
   "source": [
    "y_train0 = y_train.copy()\n",
    "y_test0 = y_test.copy()\n",
    "y0 = y.copy()"
   ]
  },
  {
   "cell_type": "code",
   "execution_count": 18,
   "id": "9e647a3a",
   "metadata": {},
   "outputs": [
    {
     "name": "stdout",
     "output_type": "stream",
     "text": [
      "min norm 0.8638871828946427\n",
      "min  9.50275901184107\n",
      "max norm 1.5389282727272728\n",
      "max  16.928211\n",
      "0.8638382727272728\n",
      "9.502221\n",
      "1.248755909090909\n",
      "13.736315\n",
      "Average of all:  10.008079288651594\n"
     ]
    }
   ],
   "source": [
    "# normalize the gap value between [0-11]\n",
    "y_train = (y_train0 - 0) / 11\n",
    "y_test = (y_test0 - 0) / 11\n",
    "print ('min norm', min(y_train))\n",
    "print ('min ', min(y_train0))\n",
    "print ('max norm', max(y_train))\n",
    "print ('max ', max(y_train0))\n",
    "print (min(y_test))\n",
    "print (min(y_test0))\n",
    "print (max(y_test))\n",
    "print (max(y_test0))\n",
    "print ('Average of all: ', np.mean ((np.mean(y_train0), np.mean(y_test0))))"
   ]
  },
  {
   "cell_type": "code",
   "execution_count": 19,
   "id": "e0be8e23",
   "metadata": {},
   "outputs": [
    {
     "data": {
      "text/plain": [
       "0.366240993009502"
      ]
     },
     "execution_count": 19,
     "metadata": {},
     "output_type": "execute_result"
    }
   ],
   "source": [
    "# standard deviation\n",
    "(np.std(y_train0) + np.std(y_test0))/2"
   ]
  },
  {
   "cell_type": "code",
   "execution_count": 20,
   "id": "e0ef8d07",
   "metadata": {},
   "outputs": [
    {
     "name": "stderr",
     "output_type": "stream",
     "text": [
      "2023-05-19 10:26:58.989697: I tensorflow/compiler/xla/stream_executor/cuda/cuda_gpu_executor.cc:981] successful NUMA node read from SysFS had negative value (-1), but there must be at least one NUMA node, so returning NUMA node zero\n",
      "2023-05-19 10:26:58.989889: I tensorflow/compiler/xla/stream_executor/cuda/cuda_gpu_executor.cc:981] successful NUMA node read from SysFS had negative value (-1), but there must be at least one NUMA node, so returning NUMA node zero\n",
      "2023-05-19 10:26:58.989950: I tensorflow/compiler/xla/stream_executor/cuda/cuda_gpu_executor.cc:981] successful NUMA node read from SysFS had negative value (-1), but there must be at least one NUMA node, so returning NUMA node zero\n",
      "2023-05-19 10:26:58.990176: I tensorflow/compiler/xla/stream_executor/cuda/cuda_gpu_executor.cc:981] successful NUMA node read from SysFS had negative value (-1), but there must be at least one NUMA node, so returning NUMA node zero\n",
      "2023-05-19 10:26:58.990249: I tensorflow/compiler/xla/stream_executor/cuda/cuda_gpu_executor.cc:981] successful NUMA node read from SysFS had negative value (-1), but there must be at least one NUMA node, so returning NUMA node zero\n",
      "2023-05-19 10:26:58.990299: I tensorflow/compiler/xla/stream_executor/cuda/cuda_gpu_executor.cc:981] successful NUMA node read from SysFS had negative value (-1), but there must be at least one NUMA node, so returning NUMA node zero\n",
      "2023-05-19 10:26:58.990388: I tensorflow/compiler/xla/stream_executor/cuda/cuda_gpu_executor.cc:981] successful NUMA node read from SysFS had negative value (-1), but there must be at least one NUMA node, so returning NUMA node zero\n",
      "2023-05-19 10:26:58.990441: I tensorflow/compiler/xla/stream_executor/cuda/cuda_gpu_executor.cc:981] successful NUMA node read from SysFS had negative value (-1), but there must be at least one NUMA node, so returning NUMA node zero\n",
      "2023-05-19 10:26:58.990481: I tensorflow/core/common_runtime/gpu/gpu_device.cc:1613] Created device /job:localhost/replica:0/task:0/device:GPU:0 with 7272 MB memory:  -> device: 0, name: NVIDIA GeForce RTX 3090, pci bus id: 0000:01:00.0, compute capability: 8.6\n"
     ]
    },
    {
     "name": "stdout",
     "output_type": "stream",
     "text": [
      "Model: \"ae\"\n",
      "_________________________________________________________________\n",
      " Layer (type)                Output Shape              Param #   \n",
      "=================================================================\n",
      " input_1 (InputLayer)        [(None, 40, 27, 1)]       0         \n",
      "                                                                 \n",
      " Encoder (Functional)        [(None, 6, 6, 1),         477442    \n",
      "                              (None, 6, 6, 1),                   \n",
      "                              (None, 6, 6, 2)]                   \n",
      "                                                                 \n",
      " Decoder (Functional)        [(None, 40, 27, 1),       15725241  \n",
      "                              (None, 1)]                         \n",
      "                                                                 \n",
      "=================================================================\n",
      "Total params: 16,202,683\n",
      "Trainable params: 16,200,571\n",
      "Non-trainable params: 2,112\n",
      "_________________________________________________________________\n",
      "None\n"
     ]
    }
   ],
   "source": [
    "# Encoding to an image embedding\n",
    "# ENCODER\n",
    "inp_1 = Input(shape = [40, 27, 1])\n",
    "\n",
    "y1 = Conv2D(64, (23, 10), strides = 1, padding = 'valid')(inp_1)\n",
    "y1 = LeakyReLU(alpha = 0.2)(y1)\n",
    "y1 = BatchNormalization()(y1)\n",
    "\n",
    "y1 = Conv2D(64, 3, strides = 1, padding = 'valid')(y1)\n",
    "y1 = LeakyReLU(alpha = 0.2)(y1)\n",
    "y1 = BatchNormalization()(y1)\n",
    "\n",
    "y1 = Conv2D(64, 3, strides = 1, padding = 'valid')(y1)\n",
    "y1 = LeakyReLU(alpha = 0.2)(y1)\n",
    "y1 = BatchNormalization()(y1)\n",
    "\n",
    "y1 = Conv2D(64, 3, strides = 1, padding = 'valid')(y1)\n",
    "y1 = LeakyReLU(alpha = 0.2)(y1)\n",
    "y1 = BatchNormalization()(y1)\n",
    "\n",
    "y1 = Conv2D(64, 3, strides = 1, padding = 'valid')(y1)\n",
    "y1 = LeakyReLU(alpha = 0.2)(y1)\n",
    "y1 = BatchNormalization()(y1)\n",
    "\n",
    "y1 = Conv2D(64, 3, strides = 1, padding = 'valid')(y1)\n",
    "y1 = LeakyReLU(alpha = 0.2)(y1)\n",
    "y1 = BatchNormalization()(y1)\n",
    "\n",
    "y1 = Conv2D(64, 3, strides = 1, padding = 'valid')(y1)\n",
    "y1 = LeakyReLU(alpha = 0.2)(y1)\n",
    "y1 = BatchNormalization()(y1)\n",
    "\n",
    "y1_emb = Conv2D(1, 3, strides = 1, padding = 'same',\n",
    "            activation = 'tanh')(y1)\n",
    "\n",
    "y2 = Conv2D(64, (23, 10), strides = 1, padding = 'valid')(inp_1)\n",
    "y2 = LeakyReLU(alpha = 0.2)(y2)\n",
    "y2 = BatchNormalization()(y2)\n",
    "\n",
    "y2 = Conv2D(64, 3, strides = 1, padding = 'valid')(y2)\n",
    "y2 = LeakyReLU(alpha = 0.2)(y2)\n",
    "y2 = BatchNormalization()(y2)\n",
    "\n",
    "y2 = Conv2D(64, 3, strides = 1, padding = 'valid')(y2)\n",
    "y2 = LeakyReLU(alpha = 0.2)(y2)\n",
    "y2 = BatchNormalization()(y2)\n",
    "\n",
    "y2 = Conv2D(64, 3, strides = 1, padding = 'valid')(y2)\n",
    "y2 = LeakyReLU(alpha = 0.2)(y2)\n",
    "y2 = BatchNormalization()(y2)\n",
    "\n",
    "y2 = Conv2D(64, 3, strides = 1, padding = 'valid')(y2)\n",
    "y2 = LeakyReLU(alpha = 0.2)(y2)\n",
    "y2 = BatchNormalization()(y2)\n",
    "\n",
    "y2 = Conv2D(64, 3, strides = 1, padding = 'valid')(y2)\n",
    "y2 = LeakyReLU(alpha = 0.2)(y2)\n",
    "y2 = BatchNormalization()(y2)\n",
    "\n",
    "y2 = Conv2D(64, 3, strides = 1, padding = 'valid')(y2)\n",
    "y2 = LeakyReLU(alpha = 0.2)(y2)\n",
    "y2 = BatchNormalization()(y2)\n",
    "\n",
    "y2_emb = Conv2D(1, 3, strides = 1, padding = 'same',\n",
    "                activation = 'tanh')(y2)\n",
    "\n",
    "####\n",
    "y_out = Concatenate()([y1_emb, y2_emb])\n",
    "\n",
    "# DECODER\n",
    "emb_in = Input(shape = [6, 6, 2])\n",
    "\n",
    "tower0 = Conv2D(32, 1, padding = 'same')(emb_in)\n",
    "tower1 = Conv2D(64, 1, padding = 'same')(emb_in)\n",
    "tower1 = Conv2D(64, 3, padding = 'same')(tower1)\n",
    "tower2 = Conv2D(32, 1, padding = 'same')(emb_in)\n",
    "tower2 = Conv2D(32, 5, padding = 'same')(tower2)\n",
    "tower3 = MaxPooling2D(3, 1, padding = 'same')(emb_in)\n",
    "tower3 = Conv2D(32, 1, padding = 'same')(tower3)\n",
    "h = Concatenate()([tower0, tower1, tower2, tower3])\n",
    "h = ReLU()(h)\n",
    "h = MaxPooling2D(2, 1, padding = 'same')(h)\n",
    "\n",
    "for i in range(6):\n",
    "    tower0 = Conv2D(32, 1, padding = 'same')(h)\n",
    "    tower1 = Conv2D(64, 1, padding = 'same')(h)\n",
    "    tower1 = Conv2D(64, 3, padding = 'same')(tower1)\n",
    "    tower2 = Conv2D(32, 1, padding = 'same')(h)\n",
    "    tower2 = Conv2D(32, 5, padding = 'same')(tower2)\n",
    "    tower3 = MaxPooling2D(3, 1, padding = 'same')(h)\n",
    "    tower3 = Conv2D(32, 1, padding = 'same')(tower3)\n",
    "    h = Concatenate()([tower0, tower1, tower2, tower3])\n",
    "    h = ReLU()(h)\n",
    "    if i % 2 == 0 and i != 0:\n",
    "        h = MaxPooling2D(2, 1, padding = 'same')(h)\n",
    "h = BatchNormalization()(h)\n",
    "\n",
    "y = Flatten()(h)\n",
    "\n",
    "y = Dense(2048, activation = 'relu')(y)\n",
    "y_cv = Dense(64, activation = 'relu')(y)\n",
    "y = Dropout(0.2)(y)\n",
    "y = Dense(1024, activation = 'relu')(y)\n",
    "y = Dropout(0.2)(y)\n",
    "y = Dense(512, activation = 'sigmoid')(y)\n",
    "y = Dropout(0.2)(y)\n",
    "y = Dense(40 * 27)(y)\n",
    "y = Reshape([40, 27, 1])(y)\n",
    "y = Softmax(axis = 2)(y)\n",
    "\n",
    "y_cv = Dropout(0.2)(y_cv)\n",
    "y_cv = Dense(128, activation = 'relu')(y_cv)\n",
    "y_cv = Dropout(0.2)(y_cv)\n",
    "y_cv = Dense(128, activation = 'relu')(y_cv)\n",
    "y_cv = Dense(1, activation = 'sigmoid')(y_cv)\n",
    "\n",
    "encoder = Model([inp_1], [y1_emb, y2_emb, y_out], name = 'Encoder')\n",
    "decoder = Model(emb_in, [y, y_cv], name = 'Decoder')\n",
    "#print (encoder.summary())\n",
    "#print (decoder.summary())\n",
    "outputs = decoder(encoder([inp_1])[2])\n",
    "#output_2 = decoder(encoder([inp_1])[2])[0]\n",
    "#output_2 = argmax (output_2, axis=2)\n",
    "#print (output_2)\n",
    "#output_2 = Reshape([1, 35])(output_2)\n",
    "\n",
    "#print (output_2)\n",
    "# Use IntegerLookup to build an index of the feature values and encode output.\n",
    "#lookup = IntegerLookup(output_mode=\"one_hot\")\n",
    "#lookup.adapt(data)\n",
    "# Convert new test data (which includes unknown feature values)\n",
    "#outputs = lookup(outputs)\n",
    "#output_2 = one_hot(output_2, depth=23)\n",
    "\n",
    "\n",
    "model = Model(inp_1, outputs, name = 'ae')\n",
    "print (model.summary())"
   ]
  },
  {
   "cell_type": "code",
   "execution_count": 21,
   "id": "94f4badf",
   "metadata": {},
   "outputs": [
    {
     "name": "stdout",
     "output_type": "stream",
     "text": [
      "WARNING:tensorflow:No training configuration found in the save file, so the model was *not* compiled. Compile it manually.\n",
      "WARNING:tensorflow:No training configuration found in the save file, so the model was *not* compiled. Compile it manually.\n"
     ]
    },
    {
     "name": "stderr",
     "output_type": "stream",
     "text": [
      "2023-05-19 10:28:41.903887: I tensorflow/compiler/xla/stream_executor/cuda/cuda_dnn.cc:428] Loaded cuDNN version 8100\n",
      "2023-05-19 10:28:42.352512: I tensorflow/tsl/platform/default/subprocess.cc:304] Start cannot spawn child process: No such file or directory\n",
      "2023-05-19 10:28:42.974726: I tensorflow/compiler/xla/stream_executor/cuda/cuda_blas.cc:630] TensorFloat-32 will be used for the matrix multiplication. This will only be logged once.\n",
      "2023-05-19 10:28:42.979752: I tensorflow/compiler/xla/service/service.cc:173] XLA service 0x7f9b988f62b0 initialized for platform CUDA (this does not guarantee that XLA will be used). Devices:\n",
      "2023-05-19 10:28:42.979763: I tensorflow/compiler/xla/service/service.cc:181]   StreamExecutor device (0): NVIDIA GeForce RTX 3090, Compute Capability 8.6\n",
      "2023-05-19 10:28:42.982674: I tensorflow/compiler/mlir/tensorflow/utils/dump_mlir_util.cc:268] disabling MLIR crash reproducer, set env var `MLIR_CRASH_REPRODUCER_DIRECTORY` to enable.\n",
      "2023-05-19 10:28:43.022631: I tensorflow/tsl/platform/default/subprocess.cc:304] Start cannot spawn child process: No such file or directory\n",
      "2023-05-19 10:28:43.046839: I tensorflow/compiler/jit/xla_compilation_cache.cc:477] Compiled cluster using XLA!  This line is logged at most once for the lifetime of the process.\n"
     ]
    },
    {
     "name": "stdout",
     "output_type": "stream",
     "text": [
      "548/548 [==============================] - 21s 14ms/step - loss: 0.1050 - Decoder_loss: 0.0999 - Decoder_1_loss: 0.0051 - val_loss: 0.0576 - val_Decoder_loss: 0.0555 - val_Decoder_1_loss: 0.0022\n",
      "WARNING:tensorflow:Compiled the loaded model, but the compiled metrics have yet to be built. `model.compile_metrics` will be empty until you train or evaluate the model.\n",
      "WARNING:tensorflow:Compiled the loaded model, but the compiled metrics have yet to be built. `model.compile_metrics` will be empty until you train or evaluate the model.\n",
      "1/1 [==============================] - 0s 171ms/step\n",
      "1/1 [==============================] - 0s 196ms/step\n",
      "CCCCCC(C)CCC.\n",
      "(40, 27)\n",
      "output of decoder [[0. 1. 0. ... 0. 0. 0.]\n",
      " [0. 1. 0. ... 0. 0. 0.]\n",
      " [0. 1. 0. ... 0. 0. 0.]\n",
      " ...\n",
      " [1. 0. 0. ... 0. 0. 0.]\n",
      " [1. 0. 0. ... 0. 0. 0.]\n",
      " [1. 0. 0. ... 0. 0. 0.]]\n",
      "0.9254545454545454\n",
      "(275,)\n"
     ]
    }
   ],
   "source": [
    "\"\"\"\n",
    "lr_schedule = keras.callbacks.LearningRateScheduler(\n",
    "    lambda epoch: 1e-8 * 10 ** (epoch / 20)\n",
    ")\n",
    "\n",
    "encoder = load_model('encoder.h5')\n",
    "decoder = load_model('decoder.h5')\n",
    "model = load_model('ae_model.h5')\n",
    "\n",
    "model.compile(optimizer = Adam(learning_rate = 1e-8),\n",
    "              loss = ['binary_crossentropy', 'mse'])\n",
    "history = model.fit([X_atoms_train, X_bonds_train],\n",
    "                    [X_smiles_train, y_train],\n",
    "                    validation_data = ([X_atoms_test, X_bonds_test],\n",
    "                                       [X_smiles_test, y_test]),\n",
    "                    epochs = 1,\n",
    "                    batch_size = 32,\n",
    "                    verbose = 1,\n",
    "                    callbacks = [lr_schedule])\n",
    "\n",
    "\n",
    "\n",
    "plt.semilogx(history.history['lr'],\n",
    "             history.history['val_Decoder_loss'])\n",
    "\n",
    "encoder = Model([inp_1, inp_2], [y1_emb, y2_emb, y_out], name = 'Encoder')\n",
    "decoder = Model(emb_in, [y, y_cv], name = 'Decoder')\n",
    "\n",
    "print (encoder.summary())\n",
    "print (decoder.summary())\n",
    "\n",
    "outputs = decoder(encoder([inp_1, inp_2])[2])\n",
    "model = Model([inp_1, inp_2], outputs, name = 'ae')\n",
    "\n",
    "model.compile(optimizer = Adam(learning_rate = 9e-5),\n",
    "              loss = ['binary_crossentropy', 'mse'])\n",
    "\n",
    "model.fit([X_atoms_train, X_bonds_train],\n",
    "                    [X_smiles_train, y_train],\n",
    "                    validation_data = ([X_atoms_test, X_bonds_test],\n",
    "                                       [X_smiles_test, y_test]),\n",
    "                    epochs = 1,\n",
    "                    batch_size = 32,\n",
    "                    verbose = 1)\n",
    "\"\"\"\n",
    "\"\"\"\n",
    "try:\n",
    "    encoder = load_model('./../data/nns/keep/encoder.h5')\n",
    "    decoder = load_model('./../data/nns/keep/decoder.h5')\n",
    "    model = load_model  ('./../data/nns/keep/ae_model.h5')\n",
    "    model.compile(optimizer = Adam(learning_rate = 9e-6),\n",
    "            loss = ['binary_crossentropy', 'mse'])\n",
    "    print (\".h5 files were read\")\n",
    "except:\n",
    "    print (\"NO .h5 trained files\")\n",
    "    model.compile(optimizer = Adam(learning_rate = 9e-5),\n",
    "            loss = ['binary_crossentropy', 'mse'])\n",
    "    pass\n",
    "\"\"\"\n",
    "\n",
    "#model.load_weights('./../data/nns/ae_model.h5')\n",
    "#encoder.load_weights('./../data/nns/encoder.h5')\n",
    "#decoder.load_weights('./../data/nns/decoder.h5')\n",
    "#encoder = load_model('./../data/nns/encoder.h5')\n",
    "#decoder = load_model('./../data/nns/decoder.h5')\n",
    "#model = load_model('./../data/nns/ae_model.h5')\n",
    "#encoder = load_model('./../data/nns/keep/encoder.h5')\n",
    "#decoder = load_model('./../data/nns/keep/decoder.h5')\n",
    "#model = load_model('./../data/nns/keep/ae_model.h5')\n",
    "\n",
    "encoder = load_model('./../data/nns/keep/encoder.h5')\n",
    "decoder = load_model('./../data/nns/keep/decoder.h5')\n",
    "#model = load_model('./../data/nns/keep/ae_model.h5')\n",
    "# 0.01 gets the best accuracy\n",
    "model.compile(optimizer = Adam(learning_rate = 1e-5), \n",
    "              loss = ['binary_crossentropy', 'mse'], loss_weights = [1.0, 1.0],)\n",
    "\n",
    "history = model.fit(X_smiles_train,\n",
    "                    [X_smiles_train, y_train],\n",
    "                    validation_data = (X_smiles_test,\n",
    "                                       [X_smiles_test, y_test]),\n",
    "                    epochs=1,\n",
    "                    batch_size=2,\n",
    "                    verbose=1)\n",
    "\n",
    "model.save  ('./../data/nns/ae_model_trans.h5')\n",
    "encoder.save('./../data/nns/encoder_trans.h5')\n",
    "decoder.save('./../data/nns/decoder_trans.h5')\n",
    "\n",
    "tf.compat.v1.keras.backend.clear_session()\n",
    "# get i and i+2 to have (2,9,10,1) shape\n",
    "# if only i was chosen, the should be (9,10,1)\n",
    "output = decoder.predict(encoder.predict([X_smiles_train[0:2][:][:][:]])[2])[0][0]\n",
    "output = argmax (output, axis=1)\n",
    "output = to_categorical (output, num_classes = 27)\n",
    "print (SMILES_train[0])\n",
    "print (output.shape)\n",
    "print ('output of decoder', output)\n",
    "print (y_train[0])\n",
    "print (SMILES_test.shape)"
   ]
  },
  {
   "cell_type": "code",
   "execution_count": 52,
   "id": "b95006ce",
   "metadata": {},
   "outputs": [
    {
     "name": "stdout",
     "output_type": "stream",
     "text": [
      "WARNING:tensorflow:No training configuration found in the save file, so the model was *not* compiled. Compile it manually.\n",
      "WARNING:tensorflow:No training configuration found in the save file, so the model was *not* compiled. Compile it manually.\n"
     ]
    }
   ],
   "source": [
    "encoder = load_model('./../data/nns/keep/encoder.h5')\n",
    "decoder = load_model('./../data/nns/keep/decoder.h5')\n",
    "model = load_model('./../data/nns/keep/ae_model.h5')"
   ]
  },
  {
   "cell_type": "code",
   "execution_count": 51,
   "id": "05105c3d",
   "metadata": {},
   "outputs": [
    {
     "name": "stdout",
     "output_type": "stream",
     "text": [
      "WARNING:tensorflow:No training configuration found in the save file, so the model was *not* compiled. Compile it manually.\n",
      "WARNING:tensorflow:No training configuration found in the save file, so the model was *not* compiled. Compile it manually.\n"
     ]
    }
   ],
   "source": [
    "encoder = load_model('./../data/nns/encoder_trans.h5')\n",
    "decoder = load_model('./../data/nns/decoder_trans.h5')\n",
    "model = load_model('./../data/nns/ae_model_trans.h5')"
   ]
  },
  {
   "cell_type": "code",
   "execution_count": 24,
   "id": "a3417b0d",
   "metadata": {},
   "outputs": [],
   "source": [
    "tf.compat.v1.keras.backend.clear_session()"
   ]
  },
  {
   "cell_type": "code",
   "execution_count": 21,
   "id": "2872d2b0",
   "metadata": {},
   "outputs": [
    {
     "name": "stdout",
     "output_type": "stream",
     "text": [
      "2.114\n"
     ]
    },
    {
     "data": {
      "image/png": "[encoded data removed]",
      "text/plain": [
       "<Figure size 640x480 with 1 Axes>"
      ]
     },
     "metadata": {},
     "output_type": "display_data"
    }
   ],
   "source": [
    "\n",
    "plt.imshow(X_smiles_test[200].reshape([40, 27]), )\n",
    "plt.title(SMILES_test[200], fontfamily='Arial', fontsize=15, fontweight='bold', pad=30)\n",
    "plt.xlabel('Char in SMILES (27)', fontfamily='Arial', fontsize=15, fontweight='bold'), \n",
    "plt.ylabel('Length of SMILES string', fontfamily='Arial', fontsize=15, fontweight='bold')\n",
    "plt.xticks((0, 10, 20, 26), size=15)\n",
    "plt.yticks((0, 10, 20, 30, 39), size=15)\n",
    "plt.tight_layout()\n",
    "plt.tight_layout()\n",
    "plt.savefig('sample_smiles_{}'.format(SMILES_test[200]), dpi=500)\n",
    "print (y_test0[200])"
   ]
  },
  {
   "cell_type": "code",
   "execution_count": 23,
   "id": "ee795f54",
   "metadata": {},
   "outputs": [
    {
     "name": "stdout",
     "output_type": "stream",
     "text": [
      "5 CCCC(C)C(C)CCC.\n",
      "10 CCCC(C)CCC(C)CCC.\n",
      "32 CC1CCCCCC(C)CC1.\n",
      "88 CCC(C)C(C)(C)C.\n",
      "99 CCC1CCC(C)C1CC.\n"
     ]
    },
    {
     "data": {
      "image/png": "[encoded data removed]",
      "text/plain": [
       "<Figure size 640x480 with 2 Axes>"
      ]
     },
     "metadata": {},
     "output_type": "display_data"
    }
   ],
   "source": [
    "for i in [5, 10, 32, 88, 99]:\n",
    "    plt.subplot(121)\n",
    "    plt.xticks((0, 10, 20, 26), size=15)\n",
    "    plt.yticks((0, 10, 20, 30, 39), size=15)\n",
    "    plt.imshow(X_smiles_test[i].reshape([40, 27]))\n",
    "    test_sample_pred = decoder.predict(encoder.predict([X_smiles_test[i:(i+2)]], verbose=0)[2], verbose=0)[0][0]\n",
    "    plt.subplot(122)\n",
    "    plt.imshow(test_sample_pred.reshape([40, 27]))\n",
    "    plt.xlabel('Char in SMILES (27)', fontfamily='Arial', fontsize=15, fontweight='bold'), \n",
    "    plt.ylabel('Length of SMILES string', fontfamily='Arial', fontsize=15, fontweight='bold')\n",
    "    plt.xticks((0, 10, 20, 26), size=15)\n",
    "    plt.yticks((0, 10, 20, 30, 39), size=15)\n",
    "    plt.tight_layout()\n",
    "    plt.savefig(\"smiles_{}_test.png\".format(i), dpi=500)\n",
    "    print (i, SMILES_test[i])"
   ]
  },
  {
   "cell_type": "code",
   "execution_count": 27,
   "id": "1b512764",
   "metadata": {},
   "outputs": [
    {
     "data": {
      "text/plain": [
       "{1: 'C',\n",
       " 2: 'c',\n",
       " 3: '(',\n",
       " 4: ')',\n",
       " 5: '1',\n",
       " 6: 'O',\n",
       " 7: '=',\n",
       " 8: '.',\n",
       " 9: 'N',\n",
       " 10: '2',\n",
       " 11: '[',\n",
       " 12: ']',\n",
       " 13: 'n',\n",
       " 14: '3',\n",
       " 15: 'H',\n",
       " 16: 'S',\n",
       " 17: '-',\n",
       " 18: '#',\n",
       " 19: '+',\n",
       " 20: 's',\n",
       " 21: 'o',\n",
       " 22: 'P',\n",
       " 23: 'F',\n",
       " 24: '4',\n",
       " 25: 'l',\n",
       " 26: 'p',\n",
       " 0: ' '}"
      ]
     },
     "execution_count": 27,
     "metadata": {},
     "output_type": "execute_result"
    }
   ],
   "source": [
    "tokenizer"
   ]
  },
  {
   "cell_type": "code",
   "execution_count": 28,
   "id": "e3d4f6fb",
   "metadata": {},
   "outputs": [
    {
     "data": {
      "text/plain": [
       "array([], dtype=object)"
      ]
     },
     "execution_count": 28,
     "metadata": {},
     "output_type": "execute_result"
    }
   ],
   "source": [
    "SMILES [SMILES == 'O=c1c2c3ccc([nH]3)c1=C[N]NC=CCC=NC=C=2.']"
   ]
  },
  {
   "cell_type": "code",
   "execution_count": 29,
   "id": "99df702f",
   "metadata": {},
   "outputs": [
    {
     "data": {
      "text/plain": [
       "(275, 40, 27, 1)"
      ]
     },
     "execution_count": 29,
     "metadata": {},
     "output_type": "execute_result"
    }
   ],
   "source": [
    "X_smiles_test.shape"
   ]
  },
  {
   "cell_type": "code",
   "execution_count": 24,
   "id": "7e73b21a",
   "metadata": {},
   "outputs": [
    {
     "name": "stdout",
     "output_type": "stream",
     "text": [
      "0.9272727272727272\n",
      "0.9781818181818182\n"
     ]
    }
   ],
   "source": [
    "# Evaluation: test data\n",
    "# 0.8113100848256362 valid and true\n",
    "# 0.8619792648444863  valid\n",
    "encoder_latent_test = encoder.predict(X_smiles_test, verbose=0)[2]\n",
    "decoder_smiles_test = decoder.predict(encoder_latent_test, verbose=0)[0]\n",
    "\n",
    "dec_SMILES_test = []\n",
    "for softmax_smiles in decoder_smiles_test:\n",
    "    argmax_smiles = np.argmax(softmax_smiles, axis=1).reshape([-1])\n",
    "    #print (argmax_smiles)\n",
    "    smiles = to_categorical(argmax_smiles, num_classes=27)\n",
    "    SHAPE = [1] + list(smiles.shape) + [1]\n",
    "    smiles = smiles.reshape(SHAPE)\n",
    "    c_smiles = ''\n",
    "    for s in argmax_smiles:\n",
    "        c_smiles += tokenizer[s]\n",
    "        c_smiles = c_smiles.rstrip()\n",
    "    dec_SMILES_test.append(c_smiles)\n",
    "    \n",
    "test_true_conv = sum (SMILES_test == dec_SMILES_test)/len(SMILES_test)\n",
    "print (test_true_conv)\n",
    "\n",
    "idxs_test = []\n",
    "valid_test = 0\n",
    "\n",
    "for count, smile in enumerate(dec_SMILES_test):\n",
    "    m = Chem.MolFromSmiles(smile[:-1], sanitize=True)\n",
    "    if m is not None:\n",
    "        valid_test += 1\n",
    "        idxs_test.append(count)\n",
    "\n",
    "test_valid_conv = valid_test/len(SMILES_test)\n",
    "print (test_valid_conv)"
   ]
  },
  {
   "cell_type": "code",
   "execution_count": 31,
   "id": "0a94efa1",
   "metadata": {},
   "outputs": [
    {
     "name": "stdout",
     "output_type": "stream",
     "text": [
      "0.9233576642335767\n",
      "0.948905109489051\n"
     ]
    }
   ],
   "source": [
    "# Evaluation: train data\n",
    "# 0.8113100848256362 valid and true\n",
    "# 0.8619792648444863  valid\n",
    "encoder_latent_train = encoder.predict(X_smiles_train, verbose=0)[2]\n",
    "decoder_smiles_train = decoder.predict(encoder_latent_train, verbose=0)[0]\n",
    "\n",
    "dec_SMILES_train = []\n",
    "for softmax_smiles in decoder_smiles_train:\n",
    "    argmax_smiles = np.argmax(softmax_smiles, axis = 1).reshape([-1])\n",
    "    #print (argmax_smiles)\n",
    "    smiles = to_categorical(argmax_smiles, num_classes=27)\n",
    "    SHAPE = [1] + list(smiles.shape) + [1]\n",
    "    smiles = smiles.reshape(SHAPE)\n",
    "    c_smiles = ''\n",
    "    for s in argmax_smiles:\n",
    "        c_smiles += tokenizer[s]\n",
    "        c_smiles = c_smiles.rstrip()\n",
    "    dec_SMILES_train.append(c_smiles)\n",
    "    \n",
    "train_true_conv = sum (SMILES_train == dec_SMILES_train)/len(SMILES_train)\n",
    "print (train_true_conv)\n",
    "\n",
    "idxs_train = []\n",
    "valid_train = 0\n",
    "\n",
    "for count, smile in enumerate(dec_SMILES_train):\n",
    "    m = Chem.MolFromSmiles(smile[:-1], sanitize=True)\n",
    "    if m is not None:\n",
    "        valid_train += 1\n",
    "        idxs_train.append(count)\n",
    "\n",
    "train_valid_conv = valid_train/len(SMILES_train)\n",
    "print (train_valid_conv)"
   ]
  },
  {
   "cell_type": "code",
   "execution_count": 32,
   "id": "a47e7335",
   "metadata": {},
   "outputs": [
    {
     "name": "stdout",
     "output_type": "stream",
     "text": [
      "0.9241429613420861\n",
      "0.9547775346462436\n"
     ]
    }
   ],
   "source": [
    "# Evaluation: all data\n",
    "encoder_latent = encoder.predict(X_smiles, verbose=0)[2]\n",
    "decoder_smiles = decoder.predict(encoder_latent, verbose=0)[0]\n",
    "\n",
    "dec_SMILES = []\n",
    "for softmax_smiles in decoder_smiles:\n",
    "    argmax_smiles = np.argmax(softmax_smiles, axis = 1).reshape([-1])\n",
    "    #print (argmax_smiles)\n",
    "    smiles = to_categorical(argmax_smiles, num_classes=27)\n",
    "    SHAPE = [1] + list(smiles.shape) + [1]\n",
    "    smiles = smiles.reshape(SHAPE)\n",
    "    c_smiles = ''\n",
    "    for s in argmax_smiles:\n",
    "        c_smiles += tokenizer[s]\n",
    "        c_smiles = c_smiles.rstrip()\n",
    "    dec_SMILES.append(c_smiles)\n",
    "    \n",
    "true_conv = sum (SMILES == dec_SMILES)/len(SMILES)\n",
    "print (true_conv)\n",
    "\n",
    "idxs = []\n",
    "valid = 0\n",
    "\n",
    "for count, smile in enumerate(dec_SMILES):\n",
    "    m = Chem.MolFromSmiles(smile[:-1], sanitize=True)\n",
    "    if m is not None:\n",
    "        valid += 1\n",
    "        idxs.append(count)\n",
    "\n",
    "valid_conv = valid/len(SMILES)\n",
    "print (valid_conv)"
   ]
  },
  {
   "cell_type": "code",
   "execution_count": 33,
   "id": "77cfea74",
   "metadata": {},
   "outputs": [
    {
     "name": "stdout",
     "output_type": "stream",
     "text": [
      "0.9241429613420861\n"
     ]
    }
   ],
   "source": [
    "true = 0\n",
    "for s, ds in zip(SMILES, dec_SMILES):\n",
    "    if s==ds:\n",
    "        true +=1\n",
    "print (true/SMILES.shape[0])"
   ]
  },
  {
   "cell_type": "code",
   "execution_count": 34,
   "id": "b0fa1840",
   "metadata": {},
   "outputs": [
    {
     "name": "stdout",
     "output_type": "stream",
     "text": [
      "Valid conversion:  0.9547604512276046\n",
      "Valid and True conversion:  0.9241406768414068\n"
     ]
    }
   ],
   "source": [
    "# all data evaluation\n",
    "# 77.574 valid \n",
    "# 71.1124 valid and accurate\n",
    "valid_conv = (4*train_valid_conv + test_valid_conv)/5\n",
    "print ('Valid conversion: ', valid_conv)\n",
    "\n",
    "true_conv = (4*train_true_conv + test_true_conv)/5\n",
    "print ('Valid and True conversion: ', true_conv)"
   ]
  },
  {
   "cell_type": "code",
   "execution_count": 35,
   "id": "65ff1cb7",
   "metadata": {},
   "outputs": [
    {
     "name": "stdout",
     "output_type": "stream",
     "text": [
      "29\n",
      "% of correct char conv train:  99.36010591350397\n"
     ]
    }
   ],
   "source": [
    "def diff_letters(a,b):\n",
    "    return sum ( a[i] != b[i] for i in range(len(a)) )\n",
    "# Evaluation: test data\n",
    "# 98.01629884592023 categorical accuracy\n",
    "encoder_latent_test = encoder.predict(X_smiles_test, verbose=0)[2]\n",
    "decoder_smiles_test = decoder.predict(encoder_latent_test, verbose=0)[0]\n",
    "\n",
    "dec_SMILES_test = []\n",
    "for softmax_smiles in decoder_smiles_test:\n",
    "    argmax_smiles = np.argmax(softmax_smiles, axis = 1).reshape([-1])\n",
    "    #print (argmax_smiles)\n",
    "    smiles = to_categorical(argmax_smiles, num_classes=27)\n",
    "    SHAPE = [1] + list(smiles.shape) + [1]\n",
    "    smiles = smiles.reshape(SHAPE)\n",
    "    c_smiles = ''\n",
    "    for s in argmax_smiles:\n",
    "        c_smiles += tokenizer[s]\n",
    "        c_smiles = c_smiles.rstrip()\n",
    "    dec_SMILES_test.append(c_smiles)\n",
    "\n",
    "wrong_char = 0\n",
    "total_char = 0\n",
    "for i, j in zip(dec_SMILES_test, SMILES_test):\n",
    "    try:\n",
    "        wrong_char = wrong_char + diff_letters(i, j)\n",
    "    except:\n",
    "        print(i, j)\n",
    "    total_char = total_char + len(i) \n",
    "print (wrong_char)\n",
    "print ('% of correct char conv train: ', 100-wrong_char/total_char*100)"
   ]
  },
  {
   "cell_type": "code",
   "execution_count": 36,
   "id": "f0d40fd0",
   "metadata": {},
   "outputs": [
    {
     "name": "stdout",
     "output_type": "stream",
     "text": [
      "% of correct char conv train:  99.28935662363025\n"
     ]
    }
   ],
   "source": [
    "# Evaluation: train data\n",
    "#  99.98139237365801 categorical accuracy\n",
    "encoder_latent_train = encoder.predict(X_smiles_train, verbose=0)[2]\n",
    "decoder_smiles_train = decoder.predict(encoder_latent_train, verbose=0)[0]\n",
    "\n",
    "dec_SMILES_train = []\n",
    "for softmax_smiles in decoder_smiles_train:\n",
    "    argmax_smiles = np.argmax(softmax_smiles, axis = 1).reshape([-1])\n",
    "    #print (argmax_smiles)\n",
    "    smiles = to_categorical(argmax_smiles, num_classes=27)\n",
    "    SHAPE = [1] + list(smiles.shape) + [1]\n",
    "    smiles = smiles.reshape(SHAPE)\n",
    "    c_smiles = ''\n",
    "    for s in argmax_smiles:\n",
    "        c_smiles += tokenizer[s]\n",
    "        c_smiles = c_smiles.rstrip()\n",
    "    dec_SMILES_train.append(c_smiles)\n",
    "\n",
    "wrong_char = 0\n",
    "total_char = 0\n",
    "for i, j in zip(dec_SMILES_train, SMILES_train):\n",
    "    try:\n",
    "        wrong_char = wrong_char + diff_letters(i, j)\n",
    "    except:\n",
    "        print(i, j)\n",
    "    total_char = total_char + len(i) \n",
    "print ('% of correct char conv train: ', 100-wrong_char/total_char*100)"
   ]
  },
  {
   "cell_type": "code",
   "execution_count": 39,
   "id": "abc759aa",
   "metadata": {},
   "outputs": [
    {
     "data": {
      "text/plain": [
       "<matplotlib.legend.Legend at 0x7f7995d73ca0>"
      ]
     },
     "execution_count": 39,
     "metadata": {},
     "output_type": "execute_result"
    },
    {
     "data": {
      "image/png": "[encoded data removed]",
      "text/plain": [
       "<Figure size 500x400 with 1 Axes>"
      ]
     },
     "metadata": {},
     "output_type": "display_data"
    }
   ],
   "source": [
    "fig, ax = plt.subplots(figsize=(5, 4))\n",
    "\n",
    "ax.tick_params(axis='both', length=4, width=2, colors='black', grid_alpha=0, labelsize=15)\n",
    "[i.set_linewidth(2) for i in ax.spines.values()]\n",
    "plt.xlabel('HOMO-LUMO gap (eV)', fontname='Arial', fontweight = 'bold', fontsize=15)\n",
    "plt.ylabel('% of samples', fontname='Arial', fontweight = 'bold', fontsize=15)\n",
    "\n",
    "sns.histplot (y_train0, color='red', label='train', stat='percent', kde=True, bins=50)\n",
    "sns.histplot (y_test0, color='blue', label='test', stat='percent', kde=True, bins=20, alpha=0.5)\n",
    "plt.legend()"
   ]
  },
  {
   "cell_type": "code",
   "execution_count": 40,
   "id": "ff670b12",
   "metadata": {},
   "outputs": [],
   "source": [
    "smiles_conv = pd.DataFrame({})\n",
    "smiles_conv ['true_SMILES'] = SMILES\n",
    "smiles_conv ['conv_SMILES'] = np.array (dec_SMILES)"
   ]
  },
  {
   "cell_type": "code",
   "execution_count": 41,
   "id": "2c4bfba1",
   "metadata": {},
   "outputs": [],
   "source": [
    "smiles_conv_test = pd.DataFrame({})\n",
    "smiles_conv_test ['true_SMILES'] = SMILES_test\n",
    "smiles_conv_test ['conv_SMILES'] = np.array (dec_SMILES_test)"
   ]
  },
  {
   "cell_type": "code",
   "execution_count": 42,
   "id": "64a165db",
   "metadata": {},
   "outputs": [],
   "source": [
    "# wrong conversion\n",
    "wrong_idx = smiles_conv_test.loc[smiles_conv_test ['true_SMILES'] != smiles_conv_test ['conv_SMILES']].index.to_list()"
   ]
  },
  {
   "cell_type": "code",
   "execution_count": 43,
   "id": "16013623",
   "metadata": {},
   "outputs": [
    {
     "data": {
      "text/plain": [
       "[179,\n",
       " 185,\n",
       " 206,\n",
       " 209,\n",
       " 210,\n",
       " 217,\n",
       " 219,\n",
       " 224,\n",
       " 226,\n",
       " 229,\n",
       " 234,\n",
       " 236,\n",
       " 237,\n",
       " 238,\n",
       " 242,\n",
       " 243,\n",
       " 248,\n",
       " 254,\n",
       " 258,\n",
       " 266]"
      ]
     },
     "execution_count": 43,
     "metadata": {},
     "output_type": "execute_result"
    }
   ],
   "source": [
    "wrong_idx"
   ]
  }
 ],
 "metadata": {
  "kernelspec": {
   "display_name": "Python 3 (ipykernel)",
   "language": "python",
   "name": "python3"
  },
  "language_info": {
   "codemirror_mode": {
    "name": "ipython",
    "version": 3
   },
   "file_extension": ".py",
   "mimetype": "text/x-python",
   "name": "python",
   "nbconvert_exporter": "python",
   "pygments_lexer": "ipython3",
   "version": "3.9.13"
  }
 },
 "nbformat": 4,
 "nbformat_minor": 5
}
